{
 "cells": [
  {
   "cell_type": "markdown",
   "id": "999dad4c-421e-418a-9f71-3dda8bb0eee7",
   "metadata": {},
   "source": [
    "# Retail Sales Performance and Inventory Reservation Use Case\n",
    "\n",
    "Using RETAILER_UNION_V from SAP Datasphere, which are federated from Big Query. Also using DISTRIBUTOR_V, PRODUCT_V, and RETAIL_V which are local table views in SAP Datasphere."
   ]
  },
  {
   "cell_type": "markdown",
   "id": "67c8b549-663e-40fb-ac8a-ca35fbfaa80e",
   "metadata": {},
   "source": [
    "# Install fedml_gcp package"
   ]
  },
  {
   "cell_type": "code",
   "execution_count": 1,
   "id": "65d5a04a-bb3c-4009-aeac-487bd4990af4",
   "metadata": {
    "tags": []
   },
   "outputs": [
    {
     "name": "stdout",
     "output_type": "stream",
     "text": [
      "Collecting fedml_gcp\n",
      "  Downloading fedml_gcp-2.1.1-py3-none-any.whl.metadata (1.4 kB)\n",
      "Collecting hdbcli (from fedml_gcp)\n",
      "  Downloading hdbcli-2.19.21-cp34-abi3-manylinux1_x86_64.whl.metadata (6.1 kB)\n",
      "Collecting google (from fedml_gcp)\n",
      "  Downloading google-3.0.0-py2.py3-none-any.whl (45 kB)\n",
      "\u001b[2K     \u001b[90m━━━━━━━━━━━━━━━━━━━━━━━━━━━━━━━━━━━━━━━\u001b[0m \u001b[32m45.3/45.3 kB\u001b[0m \u001b[31m799.9 kB/s\u001b[0m eta \u001b[36m0:00:00\u001b[0m \u001b[36m0:00:01\u001b[0m\n",
      "\u001b[?25hRequirement already satisfied: google-cloud-aiplatform in /opt/conda/lib/python3.10/site-packages (from fedml_gcp) (1.37.0)\n",
      "Requirement already satisfied: pyyaml in /opt/conda/lib/python3.10/site-packages (from fedml_gcp) (6.0.1)\n",
      "Requirement already satisfied: requests in /opt/conda/lib/python3.10/site-packages (from fedml_gcp) (2.31.0)\n",
      "Requirement already satisfied: numpy in /opt/conda/lib/python3.10/site-packages (from fedml_gcp) (1.25.2)\n",
      "Requirement already satisfied: pandas in /opt/conda/lib/python3.10/site-packages (from fedml_gcp) (2.0.3)\n",
      "Requirement already satisfied: beautifulsoup4 in /opt/conda/lib/python3.10/site-packages (from google->fedml_gcp) (4.12.2)\n",
      "Requirement already satisfied: google-api-core!=2.0.*,!=2.1.*,!=2.2.*,!=2.3.*,!=2.4.*,!=2.5.*,!=2.6.*,!=2.7.*,<3.0.0dev,>=1.32.0 in /opt/conda/lib/python3.10/site-packages (from google-api-core[grpc]!=2.0.*,!=2.1.*,!=2.2.*,!=2.3.*,!=2.4.*,!=2.5.*,!=2.6.*,!=2.7.*,<3.0.0dev,>=1.32.0->google-cloud-aiplatform->fedml_gcp) (1.34.0)\n",
      "Requirement already satisfied: proto-plus<2.0.0dev,>=1.22.0 in /opt/conda/lib/python3.10/site-packages (from google-cloud-aiplatform->fedml_gcp) (1.23.0)\n",
      "Requirement already satisfied: protobuf!=3.20.0,!=3.20.1,!=4.21.0,!=4.21.1,!=4.21.2,!=4.21.3,!=4.21.4,!=4.21.5,<5.0.0dev,>=3.19.5 in /opt/conda/lib/python3.10/site-packages (from google-cloud-aiplatform->fedml_gcp) (3.20.3)\n",
      "Requirement already satisfied: packaging>=14.3 in /opt/conda/lib/python3.10/site-packages (from google-cloud-aiplatform->fedml_gcp) (23.2)\n",
      "Requirement already satisfied: google-cloud-storage<3.0.0dev,>=1.32.0 in /opt/conda/lib/python3.10/site-packages (from google-cloud-aiplatform->fedml_gcp) (2.13.0)\n",
      "Requirement already satisfied: google-cloud-bigquery<4.0.0dev,>=1.15.0 in /opt/conda/lib/python3.10/site-packages (from google-cloud-aiplatform->fedml_gcp) (3.13.0)\n",
      "Requirement already satisfied: google-cloud-resource-manager<3.0.0dev,>=1.3.3 in /opt/conda/lib/python3.10/site-packages (from google-cloud-aiplatform->fedml_gcp) (1.11.0)\n",
      "Requirement already satisfied: shapely<3.0.0dev in /opt/conda/lib/python3.10/site-packages (from google-cloud-aiplatform->fedml_gcp) (2.0.2)\n",
      "Requirement already satisfied: python-dateutil>=2.8.2 in /opt/conda/lib/python3.10/site-packages (from pandas->fedml_gcp) (2.8.2)\n",
      "Requirement already satisfied: pytz>=2020.1 in /opt/conda/lib/python3.10/site-packages (from pandas->fedml_gcp) (2023.3.post1)\n",
      "Requirement already satisfied: tzdata>=2022.1 in /opt/conda/lib/python3.10/site-packages (from pandas->fedml_gcp) (2023.3)\n",
      "Requirement already satisfied: charset-normalizer<4,>=2 in /opt/conda/lib/python3.10/site-packages (from requests->fedml_gcp) (3.3.2)\n",
      "Requirement already satisfied: idna<4,>=2.5 in /opt/conda/lib/python3.10/site-packages (from requests->fedml_gcp) (3.6)\n",
      "Requirement already satisfied: urllib3<3,>=1.21.1 in /opt/conda/lib/python3.10/site-packages (from requests->fedml_gcp) (1.26.18)\n",
      "Requirement already satisfied: certifi>=2017.4.17 in /opt/conda/lib/python3.10/site-packages (from requests->fedml_gcp) (2023.11.17)\n",
      "Requirement already satisfied: googleapis-common-protos<2.0dev,>=1.56.2 in /opt/conda/lib/python3.10/site-packages (from google-api-core!=2.0.*,!=2.1.*,!=2.2.*,!=2.3.*,!=2.4.*,!=2.5.*,!=2.6.*,!=2.7.*,<3.0.0dev,>=1.32.0->google-api-core[grpc]!=2.0.*,!=2.1.*,!=2.2.*,!=2.3.*,!=2.4.*,!=2.5.*,!=2.6.*,!=2.7.*,<3.0.0dev,>=1.32.0->google-cloud-aiplatform->fedml_gcp) (1.62.0)\n",
      "Requirement already satisfied: google-auth<3.0dev,>=1.25.0 in /opt/conda/lib/python3.10/site-packages (from google-api-core!=2.0.*,!=2.1.*,!=2.2.*,!=2.3.*,!=2.4.*,!=2.5.*,!=2.6.*,!=2.7.*,<3.0.0dev,>=1.32.0->google-api-core[grpc]!=2.0.*,!=2.1.*,!=2.2.*,!=2.3.*,!=2.4.*,!=2.5.*,!=2.6.*,!=2.7.*,<3.0.0dev,>=1.32.0->google-cloud-aiplatform->fedml_gcp) (2.25.2)\n",
      "Requirement already satisfied: grpcio<2.0dev,>=1.33.2 in /opt/conda/lib/python3.10/site-packages (from google-api-core[grpc]!=2.0.*,!=2.1.*,!=2.2.*,!=2.3.*,!=2.4.*,!=2.5.*,!=2.6.*,!=2.7.*,<3.0.0dev,>=1.32.0->google-cloud-aiplatform->fedml_gcp) (1.60.0)\n",
      "Requirement already satisfied: grpcio-status<2.0dev,>=1.33.2 in /opt/conda/lib/python3.10/site-packages (from google-api-core[grpc]!=2.0.*,!=2.1.*,!=2.2.*,!=2.3.*,!=2.4.*,!=2.5.*,!=2.6.*,!=2.7.*,<3.0.0dev,>=1.32.0->google-cloud-aiplatform->fedml_gcp) (1.48.2)\n",
      "Requirement already satisfied: google-cloud-core<3.0.0dev,>=1.6.0 in /opt/conda/lib/python3.10/site-packages (from google-cloud-bigquery<4.0.0dev,>=1.15.0->google-cloud-aiplatform->fedml_gcp) (2.4.1)\n",
      "Requirement already satisfied: google-resumable-media<3.0dev,>=0.6.0 in /opt/conda/lib/python3.10/site-packages (from google-cloud-bigquery<4.0.0dev,>=1.15.0->google-cloud-aiplatform->fedml_gcp) (2.6.0)\n",
      "Requirement already satisfied: grpc-google-iam-v1<1.0.0dev,>=0.12.4 in /opt/conda/lib/python3.10/site-packages (from google-cloud-resource-manager<3.0.0dev,>=1.3.3->google-cloud-aiplatform->fedml_gcp) (0.13.0)\n",
      "Requirement already satisfied: google-crc32c<2.0dev,>=1.0 in /opt/conda/lib/python3.10/site-packages (from google-cloud-storage<3.0.0dev,>=1.32.0->google-cloud-aiplatform->fedml_gcp) (1.5.0)\n",
      "Requirement already satisfied: six>=1.5 in /opt/conda/lib/python3.10/site-packages (from python-dateutil>=2.8.2->pandas->fedml_gcp) (1.16.0)\n",
      "Requirement already satisfied: soupsieve>1.2 in /opt/conda/lib/python3.10/site-packages (from beautifulsoup4->google->fedml_gcp) (2.5)\n",
      "Requirement already satisfied: cachetools<6.0,>=2.0.0 in /opt/conda/lib/python3.10/site-packages (from google-auth<3.0dev,>=1.25.0->google-api-core!=2.0.*,!=2.1.*,!=2.2.*,!=2.3.*,!=2.4.*,!=2.5.*,!=2.6.*,!=2.7.*,<3.0.0dev,>=1.32.0->google-api-core[grpc]!=2.0.*,!=2.1.*,!=2.2.*,!=2.3.*,!=2.4.*,!=2.5.*,!=2.6.*,!=2.7.*,<3.0.0dev,>=1.32.0->google-cloud-aiplatform->fedml_gcp) (5.3.2)\n",
      "Requirement already satisfied: pyasn1-modules>=0.2.1 in /opt/conda/lib/python3.10/site-packages (from google-auth<3.0dev,>=1.25.0->google-api-core!=2.0.*,!=2.1.*,!=2.2.*,!=2.3.*,!=2.4.*,!=2.5.*,!=2.6.*,!=2.7.*,<3.0.0dev,>=1.32.0->google-api-core[grpc]!=2.0.*,!=2.1.*,!=2.2.*,!=2.3.*,!=2.4.*,!=2.5.*,!=2.6.*,!=2.7.*,<3.0.0dev,>=1.32.0->google-cloud-aiplatform->fedml_gcp) (0.3.0)\n",
      "Requirement already satisfied: rsa<5,>=3.1.4 in /opt/conda/lib/python3.10/site-packages (from google-auth<3.0dev,>=1.25.0->google-api-core!=2.0.*,!=2.1.*,!=2.2.*,!=2.3.*,!=2.4.*,!=2.5.*,!=2.6.*,!=2.7.*,<3.0.0dev,>=1.32.0->google-api-core[grpc]!=2.0.*,!=2.1.*,!=2.2.*,!=2.3.*,!=2.4.*,!=2.5.*,!=2.6.*,!=2.7.*,<3.0.0dev,>=1.32.0->google-cloud-aiplatform->fedml_gcp) (4.9)\n",
      "Requirement already satisfied: pyasn1<0.6.0,>=0.4.6 in /opt/conda/lib/python3.10/site-packages (from pyasn1-modules>=0.2.1->google-auth<3.0dev,>=1.25.0->google-api-core!=2.0.*,!=2.1.*,!=2.2.*,!=2.3.*,!=2.4.*,!=2.5.*,!=2.6.*,!=2.7.*,<3.0.0dev,>=1.32.0->google-api-core[grpc]!=2.0.*,!=2.1.*,!=2.2.*,!=2.3.*,!=2.4.*,!=2.5.*,!=2.6.*,!=2.7.*,<3.0.0dev,>=1.32.0->google-cloud-aiplatform->fedml_gcp) (0.5.1)\n",
      "Downloading fedml_gcp-2.1.1-py3-none-any.whl (11 kB)\n",
      "Downloading hdbcli-2.19.21-cp34-abi3-manylinux1_x86_64.whl (10.8 MB)\n",
      "\u001b[2K   \u001b[90m━━━━━━━━━━━━━━━━━━━━━━━━━━━━━━━━━━━━━━━━\u001b[0m \u001b[32m10.8/10.8 MB\u001b[0m \u001b[31m31.4 MB/s\u001b[0m eta \u001b[36m0:00:00\u001b[0m00:01\u001b[0m0:01\u001b[0m\n",
      "\u001b[?25hInstalling collected packages: hdbcli, google, fedml_gcp\n",
      "Successfully installed fedml_gcp-2.1.1 google-3.0.0 hdbcli-2.19.21\n",
      "Note: you may need to restart the kernel to use updated packages.\n"
     ]
    }
   ],
   "source": [
    "pip install fedml_gcp"
   ]
  },
  {
   "cell_type": "markdown",
   "id": "f2bc50ae-924c-4f4e-9c68-596cece7175b",
   "metadata": {},
   "source": [
    "# Import Libraries"
   ]
  },
  {
   "cell_type": "code",
   "execution_count": 2,
   "id": "f736b0db-016e-43d0-8138-4b50054d3745",
   "metadata": {
    "tags": []
   },
   "outputs": [],
   "source": [
    "import os\n",
    "#os.environ[\"PROTOCOL_BUFFERS_PYTHON_IMPLEMENTATION\"] = \"python\"\n",
    "\n",
    "import time\n",
    "from fedml_gcp import dwcgcp"
   ]
  },
  {
   "cell_type": "markdown",
   "id": "ba6d3308-6538-4811-903d-af985edf1b62",
   "metadata": {},
   "source": [
    "## Some constant variables to use throughout the notebook"
   ]
  },
  {
   "cell_type": "code",
   "execution_count": 3,
   "id": "e88db6f9-380b-41cc-be0d-8b48089e49e3",
   "metadata": {
    "tags": []
   },
   "outputs": [],
   "source": [
    "PROJECT_ID = 'de-gcp-ema-con-e7906-npd-1'\n",
    "REGION = 'us-central1'\n",
    "\n",
    "BUCKET_NAME = 'fedml-demo'\n",
    "BUCKET_URI = \"gs://\"+BUCKET_NAME\n",
    "BUCKET_FOLDER = 'fedML'\n",
    "MODEL_OUTPUT_DIR = BUCKET_URI+'/'+BUCKET_FOLDER\n",
    "GCS_PATH_TO_MODEL_ARTIFACTS= MODEL_OUTPUT_DIR+'/model/'\n",
    "\n",
    "TRAINING_PACKAGE_PATH = 'RetailTest'\n",
    "PREDICTOR_PACKAGE_PATH = 'RetailTestPredictor'\n",
    "JOB_NAME = \"retail-training\"\n",
    "\n",
    "MODEL_DISPLAY_NAME = \"retail-model\"\n",
    "DEPLOYED_MODEL_DISPLAY_NAME = 'retail-deployed-model'\n",
    "\n",
    "TAR_BUNDLE_NAME = 'Retail.tar.gz'\n",
    "\n",
    "CONTAINER_REGISTRY_REPOSITORY = 'retail'\n",
    "IMAGE = 'image-'+str(int(time.time()))"
   ]
  },
  {
   "cell_type": "markdown",
   "id": "c55f9a36-0aa3-4f15-a0ec-52889fbfbe44",
   "metadata": {},
   "source": [
    "# Create DwcGCP Instance to access class methods and train model\n",
    "\n",
    "It is expected that the bucket name passed here already exists in Cloud Storage.\n",
    "\n",
    "For information on this constructor, please refer to the libraries readme."
   ]
  },
  {
   "cell_type": "code",
   "execution_count": 4,
   "id": "29cb2bf7-bc12-44e0-9a4d-3cb414608eee",
   "metadata": {
    "tags": []
   },
   "outputs": [],
   "source": [
    "params = {'project':PROJECT_ID,\n",
    "         'location':REGION, \n",
    "         'staging_bucket':BUCKET_URI}"
   ]
  },
  {
   "cell_type": "code",
   "execution_count": 5,
   "id": "fdb30d02-9ce6-4bb6-b1f7-a52e82d0dd01",
   "metadata": {
    "tags": []
   },
   "outputs": [],
   "source": [
    "dwc = dwcgcp.DwcGCP(params)"
   ]
  },
  {
   "cell_type": "markdown",
   "id": "db3ca536-cbab-4837-9350-161938b7891c",
   "metadata": {},
   "source": [
    "# Create tar bundle of script folder so GCP can use it for training\n",
    "\n",
    "Please refer to the libraries readme for more information on the dwc.make_tar_bundle() function\n",
    "\n",
    "Before running this cell, please ensure that the script package has all the necessary files for a training job."
   ]
  },
  {
   "cell_type": "code",
   "execution_count": 6,
   "id": "7ed3e257-01c4-4db6-8714-0000284e1971",
   "metadata": {
    "tags": []
   },
   "outputs": [
    {
     "name": "stdout",
     "output_type": "stream",
     "text": [
      "2024-01-03 19:10:38,961: fedml_gcp.logger INFO: File Retail.tar.gz uploaded to fedML/train/Retail.tar.gz.\n"
     ]
    }
   ],
   "source": [
    "dwc.make_tar_bundle(TAR_BUNDLE_NAME, \n",
    "                    TRAINING_PACKAGE_PATH, \n",
    "                    BUCKET_FOLDER+'/train/'+TAR_BUNDLE_NAME)\n"
   ]
  },
  {
   "cell_type": "markdown",
   "id": "e0e99d84-f940-4cc0-a950-2866deef94e1",
   "metadata": {},
   "source": [
    "## Determine which training image and deploying image you want to use. \n",
    "\n",
    "Please refer here for the training pre-built containers: https://cloud.google.com/vertex-ai/docs/training/create-python-pre-built-container\n",
    "\n",
    "Please refer here for the deployment pre-built containers: https://cloud.google.com/vertex-ai/docs/predictions/pre-built-containers"
   ]
  },
  {
   "cell_type": "code",
   "execution_count": 25,
   "id": "089ee091-e6aa-4eeb-a73b-e60d27e5c877",
   "metadata": {
    "tags": []
   },
   "outputs": [],
   "source": [
    "TRAIN_VERSION = \"sklearn-cpu.1-0\"\n",
    "DEPLOY_VERSION = \"sklearn-cpu.1-3\"\n",
    "\n",
    "TRAIN_IMAGE = \"us-docker.pkg.dev/vertex-ai/training/{}:latest\".format(TRAIN_VERSION)\n",
    "DEPLOY_IMAGE = \"us-docker.pkg.dev/vertex-ai/prediction/{}:latest\".format(DEPLOY_VERSION)"
   ]
  },
  {
   "cell_type": "code",
   "execution_count": 26,
   "id": "6af63980-387b-45fd-8016-6e591f121021",
   "metadata": {
    "tags": []
   },
   "outputs": [],
   "source": [
    "#table_name = 'DATA_VIEW'\n",
    "job_dir = 'gs://'+BUCKET_NAME\n",
    "\n",
    "cmd_args = [\n",
    "    \"--job-dir=\" + str(job_dir),\n",
    "    \"--bucket_name=\" + str(BUCKET_NAME),\n",
    "    \"--bucket_folder=\" + str(BUCKET_FOLDER),\n",
    "    \"--package_name=\" + 'trainer',\n",
    "    \"--dist_table=\"+ 'DISTRIBUTOR_V',\n",
    "    \"--dist_size=\"+ '1',\n",
    "    \"--product_table=\"+ 'PRODUCT_V',\n",
    "    \"--product_size=\"+ '1',\n",
    "    \"--retailer_table=\"+ 'RETAIL_V',\n",
    "    \"--retailer_size=\"+ '1',\n",
    "    \"--combined_retailer_table=\"+ 'RETAILER_UNION_V',\n",
    "    \"--combined_retailer_size=\"+ '1',\n",
    "    \"--lgbmregression_objective=\"+ 'regression'\n",
    "    \n",
    "]"
   ]
  },
  {
   "cell_type": "code",
   "execution_count": 27,
   "id": "83b76efe-670f-4808-b3dc-1be5f6d01827",
   "metadata": {
    "tags": []
   },
   "outputs": [],
   "source": [
    "inputs ={\n",
    "    'display_name':JOB_NAME,\n",
    "    'python_package_gcs_uri':BUCKET_URI + '/' + BUCKET_FOLDER+'/train/'+TAR_BUNDLE_NAME,\n",
    "    'python_module_name':'trainer.task',\n",
    "    'container_uri':TRAIN_IMAGE,\n",
    "    'model_serving_container_image_uri':DEPLOY_IMAGE,\n",
    "}"
   ]
  },
  {
   "cell_type": "code",
   "execution_count": 28,
   "id": "01efea80-7b3d-42c1-ad73-d17cc5e3012f",
   "metadata": {
    "tags": []
   },
   "outputs": [],
   "source": [
    "run_job_params = {'model_display_name':MODEL_DISPLAY_NAME,\n",
    "                  'args':cmd_args,\n",
    "                  'replica_count':1,\n",
    "                  'base_output_dir':MODEL_OUTPUT_DIR,\n",
    "                  'sync':True}"
   ]
  },
  {
   "cell_type": "code",
   "execution_count": 29,
   "id": "3fe606e3-d1ac-415e-a7c4-04b34a07cc7e",
   "metadata": {
    "tags": []
   },
   "outputs": [
    {
     "name": "stdout",
     "output_type": "stream",
     "text": [
      "2024-01-03 19:34:29,526: fedml_gcp.logger INFO: creating custom python package training job\n",
      "2024-01-03 19:34:29,530: fedml_gcp.logger INFO: running training job\n",
      "Training Output directory:\n",
      "gs://fedml-demo/fedML \n",
      "View Training:\n",
      "https://console.cloud.google.com/ai/platform/locations/us-central1/training/5025677091455107072?project=179499000957\n",
      "CustomPythonPackageTrainingJob projects/179499000957/locations/us-central1/trainingPipelines/5025677091455107072 current state:\n",
      "PipelineState.PIPELINE_STATE_RUNNING\n",
      "View backing custom job:\n",
      "https://console.cloud.google.com/ai/platform/locations/us-central1/training/9197637623609294848?project=179499000957\n",
      "CustomPythonPackageTrainingJob projects/179499000957/locations/us-central1/trainingPipelines/5025677091455107072 current state:\n",
      "PipelineState.PIPELINE_STATE_RUNNING\n",
      "CustomPythonPackageTrainingJob projects/179499000957/locations/us-central1/trainingPipelines/5025677091455107072 current state:\n",
      "PipelineState.PIPELINE_STATE_RUNNING\n",
      "CustomPythonPackageTrainingJob projects/179499000957/locations/us-central1/trainingPipelines/5025677091455107072 current state:\n",
      "PipelineState.PIPELINE_STATE_RUNNING\n",
      "CustomPythonPackageTrainingJob projects/179499000957/locations/us-central1/trainingPipelines/5025677091455107072 current state:\n",
      "PipelineState.PIPELINE_STATE_RUNNING\n",
      "CustomPythonPackageTrainingJob run completed. Resource name: projects/179499000957/locations/us-central1/trainingPipelines/5025677091455107072\n",
      "Model available at projects/179499000957/locations/us-central1/models/2408139372038717440\n"
     ]
    }
   ],
   "source": [
    "job = dwc.train_model( \n",
    "                      training_inputs=inputs, \n",
    "                      training_type='customPythonPackage',\n",
    "                     params=run_job_params)"
   ]
  },
  {
   "cell_type": "markdown",
   "id": "52226320-36b3-4120-b680-a7aede3503b8",
   "metadata": {},
   "source": [
    "## Deployment\n",
    "\n",
    "For information on the dwc.deploy() function please refer to the libraries readme.\n",
    "\n",
    "Here we are deploying a custom predictor for the model we trained above."
   ]
  },
  {
   "cell_type": "code",
   "execution_count": 30,
   "id": "005dc4c7-e71b-469a-a372-8a6313dfa430",
   "metadata": {
    "tags": []
   },
   "outputs": [],
   "source": [
    "from RetailTestPredictor.predictor import MyPredictor"
   ]
  },
  {
   "cell_type": "code",
   "execution_count": 37,
   "id": "b24d410c-f0ab-4013-b763-5e54d08ffc58",
   "metadata": {
    "tags": []
   },
   "outputs": [],
   "source": [
    "cpr_model_config = {\n",
    "    'src_dir': PREDICTOR_PACKAGE_PATH,\n",
    "    'output_image_uri':f\"gcr.io/{PROJECT_ID}/{CONTAINER_REGISTRY_REPOSITORY}/{IMAGE}\",\n",
    "    'predictor':MyPredictor,\n",
    "    'requirements_path':os.path.join(PREDICTOR_PACKAGE_PATH, \"requirements.txt\"),\n",
    "    'no_cache':True\n",
    "\n",
    "}\n",
    "upload_config = {\n",
    "    'display_name':DEPLOYED_MODEL_DISPLAY_NAME,\n",
    "    'artifact_uri':GCS_PATH_TO_MODEL_ARTIFACTS,\n",
    "}"
   ]
  },
  {
   "cell_type": "code",
   "execution_count": 38,
   "id": "a6c54231-bf32-462c-9d30-3e7285280354",
   "metadata": {
    "tags": []
   },
   "outputs": [
    {
     "name": "stdout",
     "output_type": "stream",
     "text": [
      "Requirement already satisfied: fastapi in /home/jupyter/.local/lib/python3.10/site-packages (from -r RetailTestPredictor/requirements.txt (line 1)) (0.108.0)\n",
      "Requirement already satisfied: uvicorn==0.17.6 in /home/jupyter/.local/lib/python3.10/site-packages (from -r RetailTestPredictor/requirements.txt (line 2)) (0.17.6)\n",
      "Requirement already satisfied: joblib~=0.15.1 in /home/jupyter/.local/lib/python3.10/site-packages (from -r RetailTestPredictor/requirements.txt (line 3)) (0.15.1)\n",
      "Requirement already satisfied: numpy<1.26,>=1.16.0 in /home/jupyter/.local/lib/python3.10/site-packages (from -r RetailTestPredictor/requirements.txt (line 4)) (1.25.2)\n",
      "Requirement already satisfied: scikit-learn==1.0.2 in /home/jupyter/.local/lib/python3.10/site-packages (from -r RetailTestPredictor/requirements.txt (line 5)) (1.0.2)\n",
      "Requirement already satisfied: google-cloud-storage<3.0.0dev,>=2.2.1 in /home/jupyter/.local/lib/python3.10/site-packages (from -r RetailTestPredictor/requirements.txt (line 6)) (2.14.0)\n",
      "Requirement already satisfied: google-cloud-aiplatform in /home/jupyter/.local/lib/python3.10/site-packages (from -r RetailTestPredictor/requirements.txt (line 7)) (1.38.1)\n",
      "Requirement already satisfied: pandas!=1.4.0,<2.1,>1.1 in /home/jupyter/.local/lib/python3.10/site-packages (from -r RetailTestPredictor/requirements.txt (line 8)) (2.0.3)\n",
      "Requirement already satisfied: lightgbm in /home/jupyter/.local/lib/python3.10/site-packages (from -r RetailTestPredictor/requirements.txt (line 9)) (4.2.0)\n",
      "Requirement already satisfied: fedml_gcp in /opt/conda/lib/python3.10/site-packages (from -r RetailTestPredictor/requirements.txt (line 10)) (2.1.1)\n",
      "Requirement already satisfied: asgiref>=3.4.0 in /home/jupyter/.local/lib/python3.10/site-packages (from uvicorn==0.17.6->-r RetailTestPredictor/requirements.txt (line 2)) (3.7.2)\n",
      "Requirement already satisfied: click>=7.0 in /opt/conda/lib/python3.10/site-packages (from uvicorn==0.17.6->-r RetailTestPredictor/requirements.txt (line 2)) (8.1.7)\n",
      "Requirement already satisfied: h11>=0.8 in /opt/conda/lib/python3.10/site-packages (from uvicorn==0.17.6->-r RetailTestPredictor/requirements.txt (line 2)) (0.14.0)\n",
      "Requirement already satisfied: scipy>=1.1.0 in /opt/conda/lib/python3.10/site-packages (from scikit-learn==1.0.2->-r RetailTestPredictor/requirements.txt (line 5)) (1.11.4)\n",
      "Requirement already satisfied: threadpoolctl>=2.0.0 in /opt/conda/lib/python3.10/site-packages (from scikit-learn==1.0.2->-r RetailTestPredictor/requirements.txt (line 5)) (3.2.0)\n",
      "Requirement already satisfied: pydantic!=1.8,!=1.8.1,!=2.0.0,!=2.0.1,!=2.1.0,<3.0.0,>=1.7.4 in /opt/conda/lib/python3.10/site-packages (from fastapi->-r RetailTestPredictor/requirements.txt (line 1)) (1.10.13)\n",
      "Requirement already satisfied: starlette<0.33.0,>=0.29.0 in /home/jupyter/.local/lib/python3.10/site-packages (from fastapi->-r RetailTestPredictor/requirements.txt (line 1)) (0.32.0.post1)\n",
      "Requirement already satisfied: typing-extensions>=4.8.0 in /opt/conda/lib/python3.10/site-packages (from fastapi->-r RetailTestPredictor/requirements.txt (line 1)) (4.8.0)\n",
      "Requirement already satisfied: google-auth<3.0dev,>=2.23.3 in /opt/conda/lib/python3.10/site-packages (from google-cloud-storage<3.0.0dev,>=2.2.1->-r RetailTestPredictor/requirements.txt (line 6)) (2.25.2)\n",
      "Requirement already satisfied: google-api-core!=2.0.*,!=2.1.*,!=2.2.*,!=2.3.0,<3.0.0dev,>=1.31.5 in /opt/conda/lib/python3.10/site-packages (from google-cloud-storage<3.0.0dev,>=2.2.1->-r RetailTestPredictor/requirements.txt (line 6)) (1.34.0)\n",
      "Requirement already satisfied: google-cloud-core<3.0dev,>=2.3.0 in /opt/conda/lib/python3.10/site-packages (from google-cloud-storage<3.0.0dev,>=2.2.1->-r RetailTestPredictor/requirements.txt (line 6)) (2.4.1)\n",
      "Requirement already satisfied: google-resumable-media>=2.6.0 in /opt/conda/lib/python3.10/site-packages (from google-cloud-storage<3.0.0dev,>=2.2.1->-r RetailTestPredictor/requirements.txt (line 6)) (2.6.0)\n",
      "Requirement already satisfied: requests<3.0.0dev,>=2.18.0 in /opt/conda/lib/python3.10/site-packages (from google-cloud-storage<3.0.0dev,>=2.2.1->-r RetailTestPredictor/requirements.txt (line 6)) (2.31.0)\n",
      "Requirement already satisfied: google-crc32c<2.0dev,>=1.0 in /opt/conda/lib/python3.10/site-packages (from google-cloud-storage<3.0.0dev,>=2.2.1->-r RetailTestPredictor/requirements.txt (line 6)) (1.5.0)\n",
      "Requirement already satisfied: proto-plus<2.0.0dev,>=1.22.0 in /opt/conda/lib/python3.10/site-packages (from google-cloud-aiplatform->-r RetailTestPredictor/requirements.txt (line 7)) (1.23.0)\n",
      "Requirement already satisfied: protobuf!=3.20.0,!=3.20.1,!=4.21.0,!=4.21.1,!=4.21.2,!=4.21.3,!=4.21.4,!=4.21.5,<5.0.0dev,>=3.19.5 in /opt/conda/lib/python3.10/site-packages (from google-cloud-aiplatform->-r RetailTestPredictor/requirements.txt (line 7)) (3.20.3)\n",
      "Requirement already satisfied: packaging>=14.3 in /opt/conda/lib/python3.10/site-packages (from google-cloud-aiplatform->-r RetailTestPredictor/requirements.txt (line 7)) (23.2)\n",
      "Requirement already satisfied: google-cloud-bigquery<4.0.0dev,>=1.15.0 in /opt/conda/lib/python3.10/site-packages (from google-cloud-aiplatform->-r RetailTestPredictor/requirements.txt (line 7)) (3.13.0)\n",
      "Requirement already satisfied: google-cloud-resource-manager<3.0.0dev,>=1.3.3 in /opt/conda/lib/python3.10/site-packages (from google-cloud-aiplatform->-r RetailTestPredictor/requirements.txt (line 7)) (1.11.0)\n",
      "Requirement already satisfied: shapely<3.0.0dev in /opt/conda/lib/python3.10/site-packages (from google-cloud-aiplatform->-r RetailTestPredictor/requirements.txt (line 7)) (2.0.2)\n",
      "Requirement already satisfied: python-dateutil>=2.8.2 in /opt/conda/lib/python3.10/site-packages (from pandas!=1.4.0,<2.1,>1.1->-r RetailTestPredictor/requirements.txt (line 8)) (2.8.2)\n",
      "Requirement already satisfied: pytz>=2020.1 in /opt/conda/lib/python3.10/site-packages (from pandas!=1.4.0,<2.1,>1.1->-r RetailTestPredictor/requirements.txt (line 8)) (2023.3.post1)\n",
      "Requirement already satisfied: tzdata>=2022.1 in /opt/conda/lib/python3.10/site-packages (from pandas!=1.4.0,<2.1,>1.1->-r RetailTestPredictor/requirements.txt (line 8)) (2023.3)\n",
      "Requirement already satisfied: hdbcli in /opt/conda/lib/python3.10/site-packages (from fedml_gcp->-r RetailTestPredictor/requirements.txt (line 10)) (2.19.21)\n",
      "Requirement already satisfied: google in /opt/conda/lib/python3.10/site-packages (from fedml_gcp->-r RetailTestPredictor/requirements.txt (line 10)) (3.0.0)\n",
      "Requirement already satisfied: pyyaml in /opt/conda/lib/python3.10/site-packages (from fedml_gcp->-r RetailTestPredictor/requirements.txt (line 10)) (6.0.1)\n",
      "Requirement already satisfied: googleapis-common-protos<2.0dev,>=1.56.2 in /opt/conda/lib/python3.10/site-packages (from google-api-core!=2.0.*,!=2.1.*,!=2.2.*,!=2.3.0,<3.0.0dev,>=1.31.5->google-cloud-storage<3.0.0dev,>=2.2.1->-r RetailTestPredictor/requirements.txt (line 6)) (1.62.0)\n",
      "Requirement already satisfied: grpcio<2.0dev,>=1.33.2 in /opt/conda/lib/python3.10/site-packages (from google-api-core[grpc]!=2.0.*,!=2.1.*,!=2.2.*,!=2.3.*,!=2.4.*,!=2.5.*,!=2.6.*,!=2.7.*,<3.0.0dev,>=1.32.0->google-cloud-aiplatform->-r RetailTestPredictor/requirements.txt (line 7)) (1.60.0)\n",
      "Requirement already satisfied: grpcio-status<2.0dev,>=1.33.2 in /opt/conda/lib/python3.10/site-packages (from google-api-core[grpc]!=2.0.*,!=2.1.*,!=2.2.*,!=2.3.*,!=2.4.*,!=2.5.*,!=2.6.*,!=2.7.*,<3.0.0dev,>=1.32.0->google-cloud-aiplatform->-r RetailTestPredictor/requirements.txt (line 7)) (1.48.2)\n",
      "Requirement already satisfied: cachetools<6.0,>=2.0.0 in /opt/conda/lib/python3.10/site-packages (from google-auth<3.0dev,>=2.23.3->google-cloud-storage<3.0.0dev,>=2.2.1->-r RetailTestPredictor/requirements.txt (line 6)) (5.3.2)\n",
      "Requirement already satisfied: pyasn1-modules>=0.2.1 in /opt/conda/lib/python3.10/site-packages (from google-auth<3.0dev,>=2.23.3->google-cloud-storage<3.0.0dev,>=2.2.1->-r RetailTestPredictor/requirements.txt (line 6)) (0.3.0)\n",
      "Requirement already satisfied: rsa<5,>=3.1.4 in /opt/conda/lib/python3.10/site-packages (from google-auth<3.0dev,>=2.23.3->google-cloud-storage<3.0.0dev,>=2.2.1->-r RetailTestPredictor/requirements.txt (line 6)) (4.9)\n",
      "Requirement already satisfied: grpc-google-iam-v1<1.0.0dev,>=0.12.4 in /opt/conda/lib/python3.10/site-packages (from google-cloud-resource-manager<3.0.0dev,>=1.3.3->google-cloud-aiplatform->-r RetailTestPredictor/requirements.txt (line 7)) (0.13.0)\n",
      "Requirement already satisfied: six>=1.5 in /opt/conda/lib/python3.10/site-packages (from python-dateutil>=2.8.2->pandas!=1.4.0,<2.1,>1.1->-r RetailTestPredictor/requirements.txt (line 8)) (1.16.0)\n",
      "Requirement already satisfied: charset-normalizer<4,>=2 in /opt/conda/lib/python3.10/site-packages (from requests<3.0.0dev,>=2.18.0->google-cloud-storage<3.0.0dev,>=2.2.1->-r RetailTestPredictor/requirements.txt (line 6)) (3.3.2)\n",
      "Requirement already satisfied: idna<4,>=2.5 in /opt/conda/lib/python3.10/site-packages (from requests<3.0.0dev,>=2.18.0->google-cloud-storage<3.0.0dev,>=2.2.1->-r RetailTestPredictor/requirements.txt (line 6)) (3.6)\n",
      "Requirement already satisfied: urllib3<3,>=1.21.1 in /opt/conda/lib/python3.10/site-packages (from requests<3.0.0dev,>=2.18.0->google-cloud-storage<3.0.0dev,>=2.2.1->-r RetailTestPredictor/requirements.txt (line 6)) (1.26.18)\n",
      "Requirement already satisfied: certifi>=2017.4.17 in /opt/conda/lib/python3.10/site-packages (from requests<3.0.0dev,>=2.18.0->google-cloud-storage<3.0.0dev,>=2.2.1->-r RetailTestPredictor/requirements.txt (line 6)) (2023.11.17)\n",
      "Requirement already satisfied: anyio<5,>=3.4.0 in /opt/conda/lib/python3.10/site-packages (from starlette<0.33.0,>=0.29.0->fastapi->-r RetailTestPredictor/requirements.txt (line 1)) (3.7.1)\n",
      "Requirement already satisfied: beautifulsoup4 in /opt/conda/lib/python3.10/site-packages (from google->fedml_gcp->-r RetailTestPredictor/requirements.txt (line 10)) (4.12.2)\n",
      "Requirement already satisfied: sniffio>=1.1 in /opt/conda/lib/python3.10/site-packages (from anyio<5,>=3.4.0->starlette<0.33.0,>=0.29.0->fastapi->-r RetailTestPredictor/requirements.txt (line 1)) (1.3.0)\n",
      "Requirement already satisfied: exceptiongroup in /opt/conda/lib/python3.10/site-packages (from anyio<5,>=3.4.0->starlette<0.33.0,>=0.29.0->fastapi->-r RetailTestPredictor/requirements.txt (line 1)) (1.2.0)\n",
      "Requirement already satisfied: pyasn1<0.6.0,>=0.4.6 in /opt/conda/lib/python3.10/site-packages (from pyasn1-modules>=0.2.1->google-auth<3.0dev,>=2.23.3->google-cloud-storage<3.0.0dev,>=2.2.1->-r RetailTestPredictor/requirements.txt (line 6)) (0.5.1)\n",
      "Requirement already satisfied: soupsieve>1.2 in /opt/conda/lib/python3.10/site-packages (from beautifulsoup4->google->fedml_gcp->-r RetailTestPredictor/requirements.txt (line 10)) (2.5)\n",
      "2024-01-03 19:52:13,392: fedml_gcp.logger INFO: building custom predictor routine\n"
     ]
    },
    {
     "name": "stderr",
     "output_type": "stream",
     "text": [
      "/opt/conda/lib/python3.10/subprocess.py:955: RuntimeWarning: line buffering (buffering=1) isn't supported in binary mode, the default buffer size will be used\n",
      "  self.stdin = io.open(p2cwrite, 'wb', bufsize)\n",
      "/opt/conda/lib/python3.10/subprocess.py:961: RuntimeWarning: line buffering (buffering=1) isn't supported in binary mode, the default buffer size will be used\n",
      "  self.stdout = io.open(c2pread, 'rb', bufsize)\n"
     ]
    },
    {
     "ename": "FileNotFoundError",
     "evalue": "[Errno 2] No such file or directory: 'docker'",
     "output_type": "error",
     "traceback": [
      "\u001b[0;31m---------------------------------------------------------------------------\u001b[0m",
      "\u001b[0;31mFileNotFoundError\u001b[0m                         Traceback (most recent call last)",
      "Cell \u001b[0;32mIn[38], line 1\u001b[0m\n\u001b[0;32m----> 1\u001b[0m model \u001b[38;5;241m=\u001b[39m \u001b[43mdwc\u001b[49m\u001b[38;5;241;43m.\u001b[39;49m\u001b[43mupload_custom_predictor\u001b[49m\u001b[43m(\u001b[49m\u001b[43mcpr_model_config\u001b[49m\u001b[43m,\u001b[49m\u001b[43m \u001b[49m\u001b[43mupload_config\u001b[49m\u001b[43m)\u001b[49m\n",
      "File \u001b[0;32m/opt/conda/lib/python3.10/site-packages/fedml_gcp/dwcgcp.py:166\u001b[0m, in \u001b[0;36mDwcGCP.upload_custom_predictor\u001b[0;34m(self, cpr_model_config, upload_config)\u001b[0m\n\u001b[1;32m    164\u001b[0m subprocess\u001b[38;5;241m.\u001b[39mcheck_call([sys\u001b[38;5;241m.\u001b[39mexecutable, \u001b[38;5;124m\"\u001b[39m\u001b[38;5;124m-m\u001b[39m\u001b[38;5;124m\"\u001b[39m, \u001b[38;5;124m\"\u001b[39m\u001b[38;5;124mpip\u001b[39m\u001b[38;5;124m\"\u001b[39m, \u001b[38;5;124m\"\u001b[39m\u001b[38;5;124minstall\u001b[39m\u001b[38;5;124m\"\u001b[39m, \u001b[38;5;124m'\u001b[39m\u001b[38;5;124m-U\u001b[39m\u001b[38;5;124m'\u001b[39m, \u001b[38;5;124m'\u001b[39m\u001b[38;5;124m--user\u001b[39m\u001b[38;5;124m'\u001b[39m, \u001b[38;5;124m'\u001b[39m\u001b[38;5;124m-r\u001b[39m\u001b[38;5;124m'\u001b[39m, cpr_model_config[\u001b[38;5;124m'\u001b[39m\u001b[38;5;124mrequirements_path\u001b[39m\u001b[38;5;124m'\u001b[39m], \u001b[38;5;124m'\u001b[39m\u001b[38;5;124m--no-cache-dir\u001b[39m\u001b[38;5;124m'\u001b[39m])\n\u001b[1;32m    165\u001b[0m \u001b[38;5;28mself\u001b[39m\u001b[38;5;241m.\u001b[39mlogger\u001b[38;5;241m.\u001b[39minfo(\u001b[38;5;124m'\u001b[39m\u001b[38;5;124mbuilding custom predictor routine\u001b[39m\u001b[38;5;124m'\u001b[39m)\n\u001b[0;32m--> 166\u001b[0m local_model \u001b[38;5;241m=\u001b[39m \u001b[43maiplatform\u001b[49m\u001b[38;5;241;43m.\u001b[39;49m\u001b[43mprediction\u001b[49m\u001b[38;5;241;43m.\u001b[39;49m\u001b[43mLocalModel\u001b[49m\u001b[38;5;241;43m.\u001b[39;49m\u001b[43mbuild_cpr_model\u001b[49m\u001b[43m(\u001b[49m\u001b[38;5;241;43m*\u001b[39;49m\u001b[38;5;241;43m*\u001b[39;49m\u001b[43mcpr_model_config\u001b[49m\u001b[43m)\u001b[49m\n\u001b[1;32m    167\u001b[0m local_model\u001b[38;5;241m.\u001b[39mpush_image()\n\u001b[1;32m    168\u001b[0m \u001b[38;5;28mself\u001b[39m\u001b[38;5;241m.\u001b[39mlogger\u001b[38;5;241m.\u001b[39minfo(\u001b[38;5;124m'\u001b[39m\u001b[38;5;124mlocal model pushed to \u001b[39m\u001b[38;5;124m'\u001b[39m \u001b[38;5;241m+\u001b[39m cpr_model_config[\u001b[38;5;124m'\u001b[39m\u001b[38;5;124moutput_image_uri\u001b[39m\u001b[38;5;124m'\u001b[39m])\n",
      "File \u001b[0;32m/opt/conda/lib/python3.10/site-packages/google/cloud/aiplatform/prediction/local_model.py:365\u001b[0m, in \u001b[0;36mLocalModel.build_cpr_model\u001b[0;34m(cls, src_dir, output_image_uri, predictor, handler, base_image, requirements_path, extra_packages, no_cache)\u001b[0m\n\u001b[1;32m    360\u001b[0m     environment_variables[\u001b[38;5;124m\"\u001b[39m\u001b[38;5;124mPREDICTOR_CLASS\u001b[39m\u001b[38;5;124m\"\u001b[39m] \u001b[38;5;241m=\u001b[39m predictor_class\n\u001b[1;32m    362\u001b[0m is_prebuilt_prediction_image \u001b[38;5;241m=\u001b[39m helpers\u001b[38;5;241m.\u001b[39mis_prebuilt_prediction_container_uri(\n\u001b[1;32m    363\u001b[0m     base_image\n\u001b[1;32m    364\u001b[0m )\n\u001b[0;32m--> 365\u001b[0m _ \u001b[38;5;241m=\u001b[39m \u001b[43mbuild\u001b[49m\u001b[38;5;241;43m.\u001b[39;49m\u001b[43mbuild_image\u001b[49m\u001b[43m(\u001b[49m\n\u001b[1;32m    366\u001b[0m \u001b[43m    \u001b[49m\u001b[43mbase_image\u001b[49m\u001b[43m,\u001b[49m\n\u001b[1;32m    367\u001b[0m \u001b[43m    \u001b[49m\u001b[43msrc_dir\u001b[49m\u001b[43m,\u001b[49m\n\u001b[1;32m    368\u001b[0m \u001b[43m    \u001b[49m\u001b[43moutput_image_uri\u001b[49m\u001b[43m,\u001b[49m\n\u001b[1;32m    369\u001b[0m \u001b[43m    \u001b[49m\u001b[43mpython_module\u001b[49m\u001b[38;5;241;43m=\u001b[39;49m\u001b[43m_DEFAULT_PYTHON_MODULE\u001b[49m\u001b[43m,\u001b[49m\n\u001b[1;32m    370\u001b[0m \u001b[43m    \u001b[49m\u001b[43mrequirements_path\u001b[49m\u001b[38;5;241;43m=\u001b[39;49m\u001b[43mrequirements_path\u001b[49m\u001b[43m,\u001b[49m\n\u001b[1;32m    371\u001b[0m \u001b[43m    \u001b[49m\u001b[43mextra_requirements\u001b[49m\u001b[38;5;241;43m=\u001b[39;49m\u001b[43m_DEFAULT_SDK_REQUIREMENTS\u001b[49m\u001b[43m,\u001b[49m\n\u001b[1;32m    372\u001b[0m \u001b[43m    \u001b[49m\u001b[43mextra_packages\u001b[49m\u001b[38;5;241;43m=\u001b[39;49m\u001b[43mextra_packages\u001b[49m\u001b[43m,\u001b[49m\n\u001b[1;32m    373\u001b[0m \u001b[43m    \u001b[49m\u001b[43mexposed_ports\u001b[49m\u001b[38;5;241;43m=\u001b[39;49m\u001b[43m[\u001b[49m\u001b[43mDEFAULT_HTTP_PORT\u001b[49m\u001b[43m]\u001b[49m\u001b[43m,\u001b[49m\n\u001b[1;32m    374\u001b[0m \u001b[43m    \u001b[49m\u001b[43menvironment_variables\u001b[49m\u001b[38;5;241;43m=\u001b[39;49m\u001b[43menvironment_variables\u001b[49m\u001b[43m,\u001b[49m\n\u001b[1;32m    375\u001b[0m \u001b[43m    \u001b[49m\u001b[43mpip_command\u001b[49m\u001b[38;5;241;43m=\u001b[39;49m\u001b[38;5;124;43m\"\u001b[39;49m\u001b[38;5;124;43mpip3\u001b[39;49m\u001b[38;5;124;43m\"\u001b[39;49m\u001b[43m \u001b[49m\u001b[38;5;28;43;01mif\u001b[39;49;00m\u001b[43m \u001b[49m\u001b[43mis_prebuilt_prediction_image\u001b[49m\u001b[43m \u001b[49m\u001b[38;5;28;43;01melse\u001b[39;49;00m\u001b[43m \u001b[49m\u001b[38;5;124;43m\"\u001b[39;49m\u001b[38;5;124;43mpip\u001b[39;49m\u001b[38;5;124;43m\"\u001b[39;49m\u001b[43m,\u001b[49m\n\u001b[1;32m    376\u001b[0m \u001b[43m    \u001b[49m\u001b[43mpython_command\u001b[49m\u001b[38;5;241;43m=\u001b[39;49m\u001b[38;5;124;43m\"\u001b[39;49m\u001b[38;5;124;43mpython3\u001b[39;49m\u001b[38;5;124;43m\"\u001b[39;49m\u001b[43m \u001b[49m\u001b[38;5;28;43;01mif\u001b[39;49;00m\u001b[43m \u001b[49m\u001b[43mis_prebuilt_prediction_image\u001b[49m\u001b[43m \u001b[49m\u001b[38;5;28;43;01melse\u001b[39;49;00m\u001b[43m \u001b[49m\u001b[38;5;124;43m\"\u001b[39;49m\u001b[38;5;124;43mpython\u001b[39;49m\u001b[38;5;124;43m\"\u001b[39;49m\u001b[43m,\u001b[49m\n\u001b[1;32m    377\u001b[0m \u001b[43m    \u001b[49m\u001b[43mno_cache\u001b[49m\u001b[38;5;241;43m=\u001b[39;49m\u001b[43mno_cache\u001b[49m\u001b[43m,\u001b[49m\n\u001b[1;32m    378\u001b[0m \u001b[43m\u001b[49m\u001b[43m)\u001b[49m\n\u001b[1;32m    380\u001b[0m container_spec \u001b[38;5;241m=\u001b[39m gca_model_compat\u001b[38;5;241m.\u001b[39mModelContainerSpec(\n\u001b[1;32m    381\u001b[0m     image_uri\u001b[38;5;241m=\u001b[39moutput_image_uri,\n\u001b[1;32m    382\u001b[0m     predict_route\u001b[38;5;241m=\u001b[39mDEFAULT_PREDICT_ROUTE,\n\u001b[1;32m    383\u001b[0m     health_route\u001b[38;5;241m=\u001b[39mDEFAULT_HEALTH_ROUTE,\n\u001b[1;32m    384\u001b[0m )\n\u001b[1;32m    386\u001b[0m \u001b[38;5;28;01mreturn\u001b[39;00m \u001b[38;5;28mcls\u001b[39m(serving_container_spec\u001b[38;5;241m=\u001b[39mcontainer_spec)\n",
      "File \u001b[0;32m/opt/conda/lib/python3.10/site-packages/google/cloud/aiplatform/docker_utils/build.py:533\u001b[0m, in \u001b[0;36mbuild_image\u001b[0;34m(base_image, host_workdir, output_image_name, python_module, requirements_path, extra_requirements, setup_path, extra_packages, container_workdir, container_home, extra_dirs, exposed_ports, pip_command, python_command, no_cache, **kwargs)\u001b[0m\n\u001b[1;32m    530\u001b[0m joined_command \u001b[38;5;241m=\u001b[39m \u001b[38;5;124m\"\u001b[39m\u001b[38;5;124m \u001b[39m\u001b[38;5;124m\"\u001b[39m\u001b[38;5;241m.\u001b[39mjoin(command)\n\u001b[1;32m    531\u001b[0m _logger\u001b[38;5;241m.\u001b[39minfo(\u001b[38;5;124m\"\u001b[39m\u001b[38;5;124mRunning command: \u001b[39m\u001b[38;5;132;01m{}\u001b[39;00m\u001b[38;5;124m\"\u001b[39m\u001b[38;5;241m.\u001b[39mformat(joined_command))\n\u001b[0;32m--> 533\u001b[0m return_code \u001b[38;5;241m=\u001b[39m \u001b[43mlocal_util\u001b[49m\u001b[38;5;241;43m.\u001b[39;49m\u001b[43mexecute_command\u001b[49m\u001b[43m(\u001b[49m\n\u001b[1;32m    534\u001b[0m \u001b[43m    \u001b[49m\u001b[43mcommand\u001b[49m\u001b[43m,\u001b[49m\n\u001b[1;32m    535\u001b[0m \u001b[43m    \u001b[49m\u001b[43minput_str\u001b[49m\u001b[38;5;241;43m=\u001b[39;49m\u001b[43mdockerfile\u001b[49m\u001b[43m,\u001b[49m\n\u001b[1;32m    536\u001b[0m \u001b[43m\u001b[49m\u001b[43m)\u001b[49m\n\u001b[1;32m    537\u001b[0m \u001b[38;5;28;01mif\u001b[39;00m return_code \u001b[38;5;241m==\u001b[39m \u001b[38;5;241m0\u001b[39m:\n\u001b[1;32m    538\u001b[0m     \u001b[38;5;28;01mreturn\u001b[39;00m Image(output_image_name, home_dir, work_dir)\n",
      "File \u001b[0;32m/opt/conda/lib/python3.10/site-packages/google/cloud/aiplatform/docker_utils/local_util.py:45\u001b[0m, in \u001b[0;36mexecute_command\u001b[0;34m(cmd, input_str)\u001b[0m\n\u001b[1;32m     26\u001b[0m \u001b[38;5;28;01mdef\u001b[39;00m \u001b[38;5;21mexecute_command\u001b[39m(\n\u001b[1;32m     27\u001b[0m     cmd: List[\u001b[38;5;28mstr\u001b[39m],\n\u001b[1;32m     28\u001b[0m     input_str: Optional[\u001b[38;5;28mstr\u001b[39m] \u001b[38;5;241m=\u001b[39m \u001b[38;5;28;01mNone\u001b[39;00m,\n\u001b[1;32m     29\u001b[0m ) \u001b[38;5;241m-\u001b[39m\u001b[38;5;241m>\u001b[39m \u001b[38;5;28mint\u001b[39m:\n\u001b[1;32m     30\u001b[0m \u001b[38;5;250m    \u001b[39m\u001b[38;5;124;03m\"\"\"Executes commands in subprocess.\u001b[39;00m\n\u001b[1;32m     31\u001b[0m \n\u001b[1;32m     32\u001b[0m \u001b[38;5;124;03m    Executes the supplied command with the supplied standard input string, streams\u001b[39;00m\n\u001b[0;32m   (...)\u001b[0m\n\u001b[1;32m     43\u001b[0m \u001b[38;5;124;03m        Return code of the process.\u001b[39;00m\n\u001b[1;32m     44\u001b[0m \u001b[38;5;124;03m    \"\"\"\u001b[39;00m\n\u001b[0;32m---> 45\u001b[0m     \u001b[38;5;28;01mwith\u001b[39;00m \u001b[43msubprocess\u001b[49m\u001b[38;5;241;43m.\u001b[39;49m\u001b[43mPopen\u001b[49m\u001b[43m(\u001b[49m\n\u001b[1;32m     46\u001b[0m \u001b[43m        \u001b[49m\u001b[43mcmd\u001b[49m\u001b[43m,\u001b[49m\n\u001b[1;32m     47\u001b[0m \u001b[43m        \u001b[49m\u001b[43mstdin\u001b[49m\u001b[38;5;241;43m=\u001b[39;49m\u001b[43msubprocess\u001b[49m\u001b[38;5;241;43m.\u001b[39;49m\u001b[43mPIPE\u001b[49m\u001b[43m,\u001b[49m\n\u001b[1;32m     48\u001b[0m \u001b[43m        \u001b[49m\u001b[43mstdout\u001b[49m\u001b[38;5;241;43m=\u001b[39;49m\u001b[43msubprocess\u001b[49m\u001b[38;5;241;43m.\u001b[39;49m\u001b[43mPIPE\u001b[49m\u001b[43m,\u001b[49m\n\u001b[1;32m     49\u001b[0m \u001b[43m        \u001b[49m\u001b[43mstderr\u001b[49m\u001b[38;5;241;43m=\u001b[39;49m\u001b[43msubprocess\u001b[49m\u001b[38;5;241;43m.\u001b[39;49m\u001b[43mSTDOUT\u001b[49m\u001b[43m,\u001b[49m\n\u001b[1;32m     50\u001b[0m \u001b[43m        \u001b[49m\u001b[43muniversal_newlines\u001b[49m\u001b[38;5;241;43m=\u001b[39;49m\u001b[38;5;28;43;01mFalse\u001b[39;49;00m\u001b[43m,\u001b[49m\n\u001b[1;32m     51\u001b[0m \u001b[43m        \u001b[49m\u001b[43mbufsize\u001b[49m\u001b[38;5;241;43m=\u001b[39;49m\u001b[38;5;241;43m1\u001b[39;49m\u001b[43m,\u001b[49m\n\u001b[1;32m     52\u001b[0m \u001b[43m    \u001b[49m\u001b[43m)\u001b[49m \u001b[38;5;28;01mas\u001b[39;00m p:\n\u001b[1;32m     53\u001b[0m         \u001b[38;5;28;01mif\u001b[39;00m input_str:\n\u001b[1;32m     54\u001b[0m             p\u001b[38;5;241m.\u001b[39mstdin\u001b[38;5;241m.\u001b[39mwrite(input_str\u001b[38;5;241m.\u001b[39mencode(\u001b[38;5;124m\"\u001b[39m\u001b[38;5;124mutf-8\u001b[39m\u001b[38;5;124m\"\u001b[39m))\n",
      "File \u001b[0;32m/opt/conda/lib/python3.10/subprocess.py:971\u001b[0m, in \u001b[0;36mPopen.__init__\u001b[0;34m(self, args, bufsize, executable, stdin, stdout, stderr, preexec_fn, close_fds, shell, cwd, env, universal_newlines, startupinfo, creationflags, restore_signals, start_new_session, pass_fds, user, group, extra_groups, encoding, errors, text, umask, pipesize)\u001b[0m\n\u001b[1;32m    967\u001b[0m         \u001b[38;5;28;01mif\u001b[39;00m \u001b[38;5;28mself\u001b[39m\u001b[38;5;241m.\u001b[39mtext_mode:\n\u001b[1;32m    968\u001b[0m             \u001b[38;5;28mself\u001b[39m\u001b[38;5;241m.\u001b[39mstderr \u001b[38;5;241m=\u001b[39m io\u001b[38;5;241m.\u001b[39mTextIOWrapper(\u001b[38;5;28mself\u001b[39m\u001b[38;5;241m.\u001b[39mstderr,\n\u001b[1;32m    969\u001b[0m                     encoding\u001b[38;5;241m=\u001b[39mencoding, errors\u001b[38;5;241m=\u001b[39merrors)\n\u001b[0;32m--> 971\u001b[0m     \u001b[38;5;28;43mself\u001b[39;49m\u001b[38;5;241;43m.\u001b[39;49m\u001b[43m_execute_child\u001b[49m\u001b[43m(\u001b[49m\u001b[43margs\u001b[49m\u001b[43m,\u001b[49m\u001b[43m \u001b[49m\u001b[43mexecutable\u001b[49m\u001b[43m,\u001b[49m\u001b[43m \u001b[49m\u001b[43mpreexec_fn\u001b[49m\u001b[43m,\u001b[49m\u001b[43m \u001b[49m\u001b[43mclose_fds\u001b[49m\u001b[43m,\u001b[49m\n\u001b[1;32m    972\u001b[0m \u001b[43m                        \u001b[49m\u001b[43mpass_fds\u001b[49m\u001b[43m,\u001b[49m\u001b[43m \u001b[49m\u001b[43mcwd\u001b[49m\u001b[43m,\u001b[49m\u001b[43m \u001b[49m\u001b[43menv\u001b[49m\u001b[43m,\u001b[49m\n\u001b[1;32m    973\u001b[0m \u001b[43m                        \u001b[49m\u001b[43mstartupinfo\u001b[49m\u001b[43m,\u001b[49m\u001b[43m \u001b[49m\u001b[43mcreationflags\u001b[49m\u001b[43m,\u001b[49m\u001b[43m \u001b[49m\u001b[43mshell\u001b[49m\u001b[43m,\u001b[49m\n\u001b[1;32m    974\u001b[0m \u001b[43m                        \u001b[49m\u001b[43mp2cread\u001b[49m\u001b[43m,\u001b[49m\u001b[43m \u001b[49m\u001b[43mp2cwrite\u001b[49m\u001b[43m,\u001b[49m\n\u001b[1;32m    975\u001b[0m \u001b[43m                        \u001b[49m\u001b[43mc2pread\u001b[49m\u001b[43m,\u001b[49m\u001b[43m \u001b[49m\u001b[43mc2pwrite\u001b[49m\u001b[43m,\u001b[49m\n\u001b[1;32m    976\u001b[0m \u001b[43m                        \u001b[49m\u001b[43merrread\u001b[49m\u001b[43m,\u001b[49m\u001b[43m \u001b[49m\u001b[43merrwrite\u001b[49m\u001b[43m,\u001b[49m\n\u001b[1;32m    977\u001b[0m \u001b[43m                        \u001b[49m\u001b[43mrestore_signals\u001b[49m\u001b[43m,\u001b[49m\n\u001b[1;32m    978\u001b[0m \u001b[43m                        \u001b[49m\u001b[43mgid\u001b[49m\u001b[43m,\u001b[49m\u001b[43m \u001b[49m\u001b[43mgids\u001b[49m\u001b[43m,\u001b[49m\u001b[43m \u001b[49m\u001b[43muid\u001b[49m\u001b[43m,\u001b[49m\u001b[43m \u001b[49m\u001b[43mumask\u001b[49m\u001b[43m,\u001b[49m\n\u001b[1;32m    979\u001b[0m \u001b[43m                        \u001b[49m\u001b[43mstart_new_session\u001b[49m\u001b[43m)\u001b[49m\n\u001b[1;32m    980\u001b[0m \u001b[38;5;28;01mexcept\u001b[39;00m:\n\u001b[1;32m    981\u001b[0m     \u001b[38;5;66;03m# Cleanup if the child failed starting.\u001b[39;00m\n\u001b[1;32m    982\u001b[0m     \u001b[38;5;28;01mfor\u001b[39;00m f \u001b[38;5;129;01min\u001b[39;00m \u001b[38;5;28mfilter\u001b[39m(\u001b[38;5;28;01mNone\u001b[39;00m, (\u001b[38;5;28mself\u001b[39m\u001b[38;5;241m.\u001b[39mstdin, \u001b[38;5;28mself\u001b[39m\u001b[38;5;241m.\u001b[39mstdout, \u001b[38;5;28mself\u001b[39m\u001b[38;5;241m.\u001b[39mstderr)):\n",
      "File \u001b[0;32m/opt/conda/lib/python3.10/subprocess.py:1863\u001b[0m, in \u001b[0;36mPopen._execute_child\u001b[0;34m(self, args, executable, preexec_fn, close_fds, pass_fds, cwd, env, startupinfo, creationflags, shell, p2cread, p2cwrite, c2pread, c2pwrite, errread, errwrite, restore_signals, gid, gids, uid, umask, start_new_session)\u001b[0m\n\u001b[1;32m   1861\u001b[0m     \u001b[38;5;28;01mif\u001b[39;00m errno_num \u001b[38;5;241m!=\u001b[39m \u001b[38;5;241m0\u001b[39m:\n\u001b[1;32m   1862\u001b[0m         err_msg \u001b[38;5;241m=\u001b[39m os\u001b[38;5;241m.\u001b[39mstrerror(errno_num)\n\u001b[0;32m-> 1863\u001b[0m     \u001b[38;5;28;01mraise\u001b[39;00m child_exception_type(errno_num, err_msg, err_filename)\n\u001b[1;32m   1864\u001b[0m \u001b[38;5;28;01mraise\u001b[39;00m child_exception_type(err_msg)\n",
      "\u001b[0;31mFileNotFoundError\u001b[0m: [Errno 2] No such file or directory: 'docker'"
     ]
    }
   ],
   "source": [
    "model = dwc.upload_custom_predictor(cpr_model_config, upload_config)"
   ]
  },
  {
   "cell_type": "code",
   "execution_count": null,
   "id": "cbcd57d5-9093-4b8f-ac12-5b4319430fed",
   "metadata": {},
   "outputs": [],
   "source": [
    "model_config = {'machine_type': \"n1-standard-4\", 'traffic_split':{\"0\": 100}}\n",
    "endpoint = dwc.deploy(model, model_config)"
   ]
  },
  {
   "cell_type": "markdown",
   "id": "335b0450-5dbf-49d2-bf96-7da1562a47d7",
   "metadata": {},
   "source": [
    "# Inferencing"
   ]
  },
  {
   "cell_type": "code",
   "execution_count": null,
   "id": "070d5563-4490-4e83-b9aa-ed786ae76c69",
   "metadata": {},
   "outputs": [],
   "source": [
    "import os\n",
    "import pandas as pd\n",
    "import numpy as np\n",
    "import json\n",
    "from fedml_gcp import DbConnection"
   ]
  },
  {
   "cell_type": "code",
   "execution_count": null,
   "id": "f18abf13-cc17-4815-a69f-c3a1b96ea656",
   "metadata": {},
   "outputs": [],
   "source": [
    "data = { 'instances': \n",
    "    [\n",
    "        {\"dist_table\": 'DISTRIBUTOR_V'},\n",
    "        {\"dist_size\": '1'},\n",
    "        {\"product_table\":\"PRODUCT_V\"},\n",
    "        {\"product_size\":\"1\"},\n",
    "        {\"retailer_table\": \"RETAIL_V\"},\n",
    "        {\"retailer_size\": \"1\"},\n",
    "        {\"combined_retailer_table\":\"RETAILER_UNION_V\"},\n",
    "        {\"combined_retailer_size\": \"1\"}\n",
    "    ]\n",
    "}\n"
   ]
  },
  {
   "cell_type": "code",
   "execution_count": null,
   "id": "81eb0a3a-a1fa-4bbf-b93b-dc768bf07892",
   "metadata": {},
   "outputs": [],
   "source": [
    "response = dwc.predict(endpoint=endpoint, predict_params=data)"
   ]
  },
  {
   "cell_type": "markdown",
   "id": "e413c1ed-8e0d-4f67-baf3-56fa94a2a3b1",
   "metadata": {},
   "source": [
    "# Write results back to SAP Datasphere"
   ]
  },
  {
   "cell_type": "code",
   "execution_count": null,
   "id": "7420f2f0-b849-462e-8be5-73cbfd408112",
   "metadata": {},
   "outputs": [],
   "source": [
    "result_df = pd.DataFrame(response, columns=['retailer', 'productsku', 'calendar_year',\n",
    "                          'calendar_month', 'Predictions'])"
   ]
  },
  {
   "cell_type": "code",
   "execution_count": null,
   "id": "6f6e98bd-369b-4bce-8451-34d9d6c3aea9",
   "metadata": {},
   "outputs": [],
   "source": [
    "types = {'retailer': 'int',\n",
    "'productsku': 'int',\n",
    "'calendar_year': 'int',\n",
    "'calendar_month': 'int'}\n",
    "result_df = result_df.astype(types)"
   ]
  },
  {
   "cell_type": "code",
   "execution_count": null,
   "id": "1bbbf256-9de7-4fdd-9556-8c8edcf3fb8a",
   "metadata": {},
   "outputs": [],
   "source": [
    "result_df['ID'] = result_df.index"
   ]
  },
  {
   "cell_type": "code",
   "execution_count": null,
   "id": "636e1ff4-0067-4dd2-899e-f37a15c7beb3",
   "metadata": {},
   "outputs": [],
   "source": [
    "result_df.head(10)"
   ]
  },
  {
   "cell_type": "code",
   "execution_count": null,
   "id": "b123626b-55ca-46bf-bcd2-e70a202f22e0",
   "metadata": {},
   "outputs": [],
   "source": [
    "db2 = DbConnection(url='RetailTestPredictor/config.json')"
   ]
  },
  {
   "cell_type": "code",
   "execution_count": null,
   "id": "052828bb-43c1-4561-a84d-7221cd228263",
   "metadata": {},
   "outputs": [],
   "source": [
    "db2.create_table(\"CREATE TABLE Retail_Predictions_GCP (ID INTEGER PRIMARY KEY, retailer INTEGER, productsku INTEGER, calendar_year INTEGER, calendar_month INTEGER, Predictions FLOAT(2))\")\n"
   ]
  },
  {
   "cell_type": "code",
   "execution_count": null,
   "id": "6f3dd8f0-274c-472e-ade5-3791311488a2",
   "metadata": {},
   "outputs": [],
   "source": [
    "db2.insert_into_table('Retail_Predictions_GCP', result_df)"
   ]
  },
  {
   "cell_type": "code",
   "execution_count": null,
   "id": "96d9ab55-82b0-41fc-ad68-7bbcc3e7f06b",
   "metadata": {},
   "outputs": [],
   "source": []
  }
 ],
 "metadata": {
  "environment": {
   "kernel": "python3",
   "name": "common-cpu.m100",
   "type": "gcloud",
   "uri": "gcr.io/deeplearning-platform-release/base-cpu:m100"
  },
  "kernelspec": {
   "display_name": "Python (Local)",
   "language": "python",
   "name": "base"
  },
  "language_info": {
   "codemirror_mode": {
    "name": "ipython",
    "version": 3
   },
   "file_extension": ".py",
   "mimetype": "text/x-python",
   "name": "python",
   "nbconvert_exporter": "python",
   "pygments_lexer": "ipython3",
   "version": "3.10.13"
  },
  "vscode": {
   "interpreter": {
    "hash": "aee8b7b246df8f9039afb4144a1f6fd8d2ca17a180786b69acc140d282b71a49"
   }
  }
 },
 "nbformat": 4,
 "nbformat_minor": 5
}
