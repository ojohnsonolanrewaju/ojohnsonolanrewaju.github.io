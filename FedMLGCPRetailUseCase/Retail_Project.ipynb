{
 "cells": [
  {
   "cell_type": "markdown",
   "id": "999dad4c-421e-418a-9f71-3dda8bb0eee7",
   "metadata": {},
   "source": [
    "# Retail Sales Performance and Inventory Reservation Use Case\n",
    "\n",
    "Using RETAILER_UNION_V from SAP Datasphere, which are federated from Big Query. Also using DISTRIBUTOR_V, PRODUCT_V, and RETAIL_V which are local table views in SAP Datasphere."
   ]
  },
  {
   "cell_type": "markdown",
   "id": "67c8b549-663e-40fb-ac8a-ca35fbfaa80e",
   "metadata": {},
   "source": [
    "# Install fedml_gcp package"
   ]
  },
  {
   "cell_type": "code",
   "execution_count": null,
   "id": "65d5a04a-bb3c-4009-aeac-487bd4990af4",
   "metadata": {},
   "outputs": [],
   "source": [
    "pip install fedml_gcp"
   ]
  },
  {
   "cell_type": "markdown",
   "id": "f2bc50ae-924c-4f4e-9c68-596cece7175b",
   "metadata": {},
   "source": [
    "# Import Libraries"
   ]
  },
  {
   "cell_type": "code",
   "execution_count": null,
   "id": "f736b0db-016e-43d0-8138-4b50054d3745",
   "metadata": {},
   "outputs": [],
   "source": [
    "import os\n",
    "import time\n",
    "from fedml_gcp import dwcgcp"
   ]
  },
  {
   "cell_type": "markdown",
   "id": "ba6d3308-6538-4811-903d-af985edf1b62",
   "metadata": {},
   "source": [
    "## Some constant variables to use throughout the notebook"
   ]
  },
  {
   "cell_type": "code",
   "execution_count": null,
   "id": "e88db6f9-380b-41cc-be0d-8b48089e49e3",
   "metadata": {},
   "outputs": [],
   "source": [
    "PROJECT_ID = '<project-id>'\n",
    "REGION = '<region>'\n",
    "\n",
    "BUCKET_NAME = '<bucket-name>'\n",
    "BUCKET_URI = \"gs://\"+BUCKET_NAME\n",
    "BUCKET_FOLDER = '<bucket-folder>'\n",
    "MODEL_OUTPUT_DIR = BUCKET_URI+'/'+BUCKET_FOLDER\n",
    "GCS_PATH_TO_MODEL_ARTIFACTS= MODEL_OUTPUT_DIR+'/model/'\n",
    "\n",
    "TRAINING_PACKAGE_PATH = 'RetailTest'\n",
    "PREDICTOR_PACKAGE_PATH = 'RetailTestPredictor'\n",
    "JOB_NAME = \"retail-training\"\n",
    "\n",
    "MODEL_DISPLAY_NAME = \"retail-model\"\n",
    "DEPLOYED_MODEL_DISPLAY_NAME = 'retail-deployed-model'\n",
    "\n",
    "TAR_BUNDLE_NAME = 'Retail.tar.gz'\n",
    "\n",
    "CONTAINER_REGISTRY_REPOSITORY = 'retail'\n",
    "IMAGE = 'image-'+str(int(time.time()))"
   ]
  },
  {
   "cell_type": "markdown",
   "id": "c55f9a36-0aa3-4f15-a0ec-52889fbfbe44",
   "metadata": {},
   "source": [
    "# Create DwcGCP Instance to access class methods and train model\n",
    "\n",
    "It is expected that the bucket name passed here already exists in Cloud Storage.\n",
    "\n",
    "For information on this constructor, please refer to the libraries readme."
   ]
  },
  {
   "cell_type": "code",
   "execution_count": null,
   "id": "29cb2bf7-bc12-44e0-9a4d-3cb414608eee",
   "metadata": {},
   "outputs": [],
   "source": [
    "params = {'project':PROJECT_ID,\n",
    "         'location':REGION, \n",
    "         'staging_bucket':BUCKET_URI}"
   ]
  },
  {
   "cell_type": "code",
   "execution_count": null,
   "id": "fdb30d02-9ce6-4bb6-b1f7-a52e82d0dd01",
   "metadata": {},
   "outputs": [],
   "source": [
    "dwc = dwcgcp.DwcGCP(params)"
   ]
  },
  {
   "cell_type": "markdown",
   "id": "db3ca536-cbab-4837-9350-161938b7891c",
   "metadata": {},
   "source": [
    "# Create tar bundle of script folder so GCP can use it for training\n",
    "\n",
    "Please refer to the libraries readme for more information on the dwc.make_tar_bundle() function\n",
    "\n",
    "Before running this cell, please ensure that the script package has all the necessary files for a training job."
   ]
  },
  {
   "cell_type": "code",
   "execution_count": null,
   "id": "7ed3e257-01c4-4db6-8714-0000284e1971",
   "metadata": {},
   "outputs": [],
   "source": [
    "dwc.make_tar_bundle(TAR_BUNDLE_NAME, \n",
    "                    TRAINING_PACKAGE_PATH, \n",
    "                    BUCKET_FOLDER+'/train/'+TAR_BUNDLE_NAME)\n"
   ]
  },
  {
   "cell_type": "markdown",
   "id": "e0e99d84-f940-4cc0-a950-2866deef94e1",
   "metadata": {},
   "source": [
    "## Determine which training image and deploying image you want to use. \n",
    "\n",
    "Please refer here for the training pre-built containers: https://cloud.google.com/vertex-ai/docs/training/create-python-pre-built-container\n",
    "\n",
    "Please refer here for the deployment pre-built containers: https://cloud.google.com/vertex-ai/docs/predictions/pre-built-containers"
   ]
  },
  {
   "cell_type": "code",
   "execution_count": null,
   "id": "089ee091-e6aa-4eeb-a73b-e60d27e5c877",
   "metadata": {},
   "outputs": [],
   "source": [
    "TRAIN_VERSION = \"scikit-learn-cpu.0-23\"\n",
    "DEPLOY_VERSION = \"sklearn-cpu.0-23\"\n",
    "\n",
    "TRAIN_IMAGE = \"us-docker.pkg.dev/vertex-ai/training/{}:latest\".format(TRAIN_VERSION)\n",
    "DEPLOY_IMAGE = \"us-docker.pkg.dev/vertex-ai/prediction/{}:latest\".format(DEPLOY_VERSION)"
   ]
  },
  {
   "cell_type": "code",
   "execution_count": null,
   "id": "6af63980-387b-45fd-8016-6e591f121021",
   "metadata": {},
   "outputs": [],
   "source": [
    "#table_name = 'BREASTCANCER_VIEW'\n",
    "job_dir = 'gs://'+BUCKET_NAME\n",
    "\n",
    "cmd_args = [\n",
    "    \"--job-dir=\" + str(job_dir),\n",
    "    \"--bucket_name=\" + str(BUCKET_NAME),\n",
    "    \"--bucket_folder=\" + str(BUCKET_FOLDER),\n",
    "    \"--package_name=\" + 'trainer',\n",
    "    \"--dist_table=\"+ 'DISTRIBUTOR_V',\n",
    "    \"--dist_size=\"+ '1',\n",
    "    \"--product_table=\"+ 'PRODUCT_V',\n",
    "    \"--product_size=\"+ '1',\n",
    "    \"--retailer_table=\"+ 'RETAIL_V',\n",
    "    \"--retailer_size=\"+ '1',\n",
    "    \"--combined_retailer_table=\"+ 'RETAILER_UNION_V',\n",
    "    \"--combined_retailer_size=\"+ '1',\n",
    "    \"--lgbmregression_objective=\"+ 'regression'\n",
    "    \n",
    "]"
   ]
  },
  {
   "cell_type": "code",
   "execution_count": null,
   "id": "83b76efe-670f-4808-b3dc-1be5f6d01827",
   "metadata": {},
   "outputs": [],
   "source": [
    "inputs ={\n",
    "    'display_name':JOB_NAME,\n",
    "    'python_package_gcs_uri':BUCKET_URI + '/' + BUCKET_FOLDER+'/train/'+TAR_BUNDLE_NAME,\n",
    "    'python_module_name':'trainer.task',\n",
    "    'container_uri':TRAIN_IMAGE,\n",
    "    'model_serving_container_image_uri':DEPLOY_IMAGE,\n",
    "}"
   ]
  },
  {
   "cell_type": "code",
   "execution_count": null,
   "id": "01efea80-7b3d-42c1-ad73-d17cc5e3012f",
   "metadata": {},
   "outputs": [],
   "source": [
    "run_job_params = {'model_display_name':MODEL_DISPLAY_NAME,\n",
    "                  'args':cmd_args,\n",
    "                  'replica_count':1,\n",
    "                  'base_output_dir':MODEL_OUTPUT_DIR,\n",
    "                  'sync':True}"
   ]
  },
  {
   "cell_type": "code",
   "execution_count": null,
   "id": "3fe606e3-d1ac-415e-a7c4-04b34a07cc7e",
   "metadata": {},
   "outputs": [],
   "source": [
    "job = dwc.train_model( \n",
    "                      training_inputs=inputs, \n",
    "                      training_type='customPythonPackage',\n",
    "                     params=run_job_params)"
   ]
  },
  {
   "cell_type": "markdown",
   "id": "52226320-36b3-4120-b680-a7aede3503b8",
   "metadata": {},
   "source": [
    "## Deployment\n",
    "\n",
    "For information on the dwc.deploy() function please refer to the libraries readme.\n",
    "\n",
    "Here we are deploying a custom predictor for the model we trained above."
   ]
  },
  {
   "cell_type": "code",
   "execution_count": null,
   "id": "005dc4c7-e71b-469a-a372-8a6313dfa430",
   "metadata": {},
   "outputs": [],
   "source": [
    "from RetailTestPredictor.predictor import MyPredictor"
   ]
  },
  {
   "cell_type": "code",
   "execution_count": null,
   "id": "b24d410c-f0ab-4013-b763-5e54d08ffc58",
   "metadata": {},
   "outputs": [],
   "source": [
    "cpr_model_config = {\n",
    "    'src_dir': PREDICTOR_PACKAGE_PATH,\n",
    "    'output_image_uri':f\"gcr.io/{PROJECT_ID}/{CONTAINER_REGISTRY_REPOSITORY}/{IMAGE}\",\n",
    "    'predictor':MyPredictor,\n",
    "    'requirements_path':os.path.join(PREDICTOR_PACKAGE_PATH, \"requirements.txt\"),\n",
    "    'no_cache':True\n",
    "\n",
    "}\n",
    "upload_config = {\n",
    "    'display_name':DEPLOYED_MODEL_DISPLAY_NAME,\n",
    "    'artifact_uri':GCS_PATH_TO_MODEL_ARTIFACTS,\n",
    "}"
   ]
  },
  {
   "cell_type": "code",
   "execution_count": null,
   "id": "a6c54231-bf32-462c-9d30-3e7285280354",
   "metadata": {},
   "outputs": [],
   "source": [
    "model = dwc.upload_custom_predictor(cpr_model_config, upload_config)"
   ]
  },
  {
   "cell_type": "code",
   "execution_count": null,
   "id": "cbcd57d5-9093-4b8f-ac12-5b4319430fed",
   "metadata": {},
   "outputs": [],
   "source": [
    "model_config = {'machine_type': \"n1-standard-4\", 'traffic_split':{\"0\": 100}}\n",
    "endpoint = dwc.deploy(model, model_config)"
   ]
  },
  {
   "cell_type": "markdown",
   "id": "335b0450-5dbf-49d2-bf96-7da1562a47d7",
   "metadata": {},
   "source": [
    "# Inferencing"
   ]
  },
  {
   "cell_type": "code",
   "execution_count": null,
   "id": "070d5563-4490-4e83-b9aa-ed786ae76c69",
   "metadata": {},
   "outputs": [],
   "source": [
    "import os\n",
    "import pandas as pd\n",
    "import numpy as np\n",
    "import json\n",
    "from fedml_gcp import DbConnection"
   ]
  },
  {
   "cell_type": "code",
   "execution_count": null,
   "id": "f18abf13-cc17-4815-a69f-c3a1b96ea656",
   "metadata": {},
   "outputs": [],
   "source": [
    "data = { 'instances': \n",
    "    [\n",
    "        {\"dist_table\": 'DISTRIBUTOR_V'},\n",
    "        {\"dist_size\": '1'},\n",
    "        {\"product_table\":\"PRODUCT_V\"},\n",
    "        {\"product_size\":\"1\"},\n",
    "        {\"retailer_table\": \"RETAIL_V\"},\n",
    "        {\"retailer_size\": \"1\"},\n",
    "        {\"combined_retailer_table\":\"RETAILER_UNION_V\"},\n",
    "        {\"combined_retailer_size\": \"1\"}\n",
    "    ]\n",
    "}\n"
   ]
  },
  {
   "cell_type": "code",
   "execution_count": null,
   "id": "81eb0a3a-a1fa-4bbf-b93b-dc768bf07892",
   "metadata": {},
   "outputs": [],
   "source": [
    "response = dwc.predict(endpoint=endpoint, predict_params=data)"
   ]
  },
  {
   "cell_type": "markdown",
   "id": "e413c1ed-8e0d-4f67-baf3-56fa94a2a3b1",
   "metadata": {},
   "source": [
    "# Write results back to SAP Datasphere"
   ]
  },
  {
   "cell_type": "code",
   "execution_count": null,
   "id": "7420f2f0-b849-462e-8be5-73cbfd408112",
   "metadata": {},
   "outputs": [],
   "source": [
    "result_df = pd.DataFrame(response, columns=['retailer', 'productsku', 'calendar_year',\n",
    "                          'calendar_month', 'Predictions'])"
   ]
  },
  {
   "cell_type": "code",
   "execution_count": null,
   "id": "6f6e98bd-369b-4bce-8451-34d9d6c3aea9",
   "metadata": {},
   "outputs": [],
   "source": [
    "types = {'retailer': 'int',\n",
    "'productsku': 'int',\n",
    "'calendar_year': 'int',\n",
    "'calendar_month': 'int'}\n",
    "result_df = result_df.astype(types)"
   ]
  },
  {
   "cell_type": "code",
   "execution_count": null,
   "id": "1bbbf256-9de7-4fdd-9556-8c8edcf3fb8a",
   "metadata": {},
   "outputs": [],
   "source": [
    "result_df['ID'] = result_df.index"
   ]
  },
  {
   "cell_type": "code",
   "execution_count": null,
   "id": "636e1ff4-0067-4dd2-899e-f37a15c7beb3",
   "metadata": {},
   "outputs": [],
   "source": [
    "result_df.head(10)"
   ]
  },
  {
   "cell_type": "code",
   "execution_count": null,
   "id": "b123626b-55ca-46bf-bcd2-e70a202f22e0",
   "metadata": {},
   "outputs": [],
   "source": [
    "db2 = DbConnection(url='RetailTestPredictor/config.json')"
   ]
  },
  {
   "cell_type": "code",
   "execution_count": null,
   "id": "052828bb-43c1-4561-a84d-7221cd228263",
   "metadata": {},
   "outputs": [],
   "source": [
    "db2.create_table(\"CREATE TABLE Retail_Predictions_GCP (ID INTEGER PRIMARY KEY, retailer INTEGER, productsku INTEGER, calendar_year INTEGER, calendar_month INTEGER, Predictions FLOAT(2))\")\n"
   ]
  },
  {
   "cell_type": "code",
   "execution_count": null,
   "id": "6f3dd8f0-274c-472e-ade5-3791311488a2",
   "metadata": {},
   "outputs": [],
   "source": [
    "db2.insert_into_table('Retail_Predictions_GCP', result_df)"
   ]
  },
  {
   "cell_type": "code",
   "execution_count": null,
   "id": "96d9ab55-82b0-41fc-ad68-7bbcc3e7f06b",
   "metadata": {},
   "outputs": [],
   "source": []
  }
 ],
 "metadata": {
  "environment": {
   "kernel": "python3",
   "name": "common-cpu.m100",
   "type": "gcloud",
   "uri": "gcr.io/deeplearning-platform-release/base-cpu:m100"
  },
  "kernelspec": {
   "display_name": "Python 3.9.9 64-bit",
   "language": "python",
   "name": "python3"
  },
  "language_info": {
   "codemirror_mode": {
    "name": "ipython",
    "version": 3
   },
   "file_extension": ".py",
   "mimetype": "text/x-python",
   "name": "python",
   "nbconvert_exporter": "python",
   "pygments_lexer": "ipython3",
   "version": "3.9.9"
  },
  "vscode": {
   "interpreter": {
    "hash": "aee8b7b246df8f9039afb4144a1f6fd8d2ca17a180786b69acc140d282b71a49"
   }
  }
 },
 "nbformat": 4,
 "nbformat_minor": 5
}
