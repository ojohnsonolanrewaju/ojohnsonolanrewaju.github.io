{
 "cells": [
  {
   "cell_type": "code",
   "execution_count": 1,
   "id": "857b5328-0b51-4cfa-a1ca-163b8de26c59",
   "metadata": {
    "tags": []
   },
   "outputs": [
    {
     "name": "stdout",
     "output_type": "stream",
     "text": [
      "Requirement already satisfied: google-cloud-aiplatform in /opt/conda/lib/python3.10/site-packages (1.53.0)\n",
      "Collecting google-cloud-aiplatform\n",
      "  Downloading google_cloud_aiplatform-1.55.0-py2.py3-none-any.whl.metadata (31 kB)\n",
      "Requirement already satisfied: google-cloud-storage in /opt/conda/lib/python3.10/site-packages (2.14.0)\n",
      "Collecting google-cloud-storage\n",
      "  Downloading google_cloud_storage-2.17.0-py2.py3-none-any.whl.metadata (6.6 kB)\n",
      "Collecting firebase-admin\n",
      "  Downloading firebase_admin-6.5.0-py3-none-any.whl.metadata (1.5 kB)\n",
      "Requirement already satisfied: google-api-core!=2.0.*,!=2.1.*,!=2.2.*,!=2.3.*,!=2.4.*,!=2.5.*,!=2.6.*,!=2.7.*,<3.0.0dev,>=1.34.1 in /opt/conda/lib/python3.10/site-packages (from google-api-core[grpc]!=2.0.*,!=2.1.*,!=2.2.*,!=2.3.*,!=2.4.*,!=2.5.*,!=2.6.*,!=2.7.*,<3.0.0dev,>=1.34.1->google-cloud-aiplatform) (1.34.1)\n",
      "Requirement already satisfied: google-auth<3.0.0dev,>=2.14.1 in /opt/conda/lib/python3.10/site-packages (from google-cloud-aiplatform) (2.29.0)\n",
      "Requirement already satisfied: proto-plus<2.0.0dev,>=1.22.0 in /opt/conda/lib/python3.10/site-packages (from google-cloud-aiplatform) (1.23.0)\n",
      "Requirement already satisfied: protobuf!=3.20.0,!=3.20.1,!=4.21.0,!=4.21.1,!=4.21.2,!=4.21.3,!=4.21.4,!=4.21.5,<5.0.0dev,>=3.19.5 in /opt/conda/lib/python3.10/site-packages (from google-cloud-aiplatform) (3.20.3)\n",
      "Requirement already satisfied: packaging>=14.3 in /opt/conda/lib/python3.10/site-packages (from google-cloud-aiplatform) (24.0)\n",
      "Requirement already satisfied: google-cloud-bigquery!=3.20.0,<4.0.0dev,>=1.15.0 in /opt/conda/lib/python3.10/site-packages (from google-cloud-aiplatform) (3.24.0)\n",
      "Requirement already satisfied: google-cloud-resource-manager<3.0.0dev,>=1.3.3 in /opt/conda/lib/python3.10/site-packages (from google-cloud-aiplatform) (1.12.3)\n",
      "Requirement already satisfied: shapely<3.0.0dev in /opt/conda/lib/python3.10/site-packages (from google-cloud-aiplatform) (2.0.4)\n",
      "Requirement already satisfied: pydantic<3 in /opt/conda/lib/python3.10/site-packages (from google-cloud-aiplatform) (1.10.15)\n",
      "Requirement already satisfied: docstring-parser<1 in /opt/conda/lib/python3.10/site-packages (from google-cloud-aiplatform) (0.16)\n",
      "Collecting google-api-core!=2.0.*,!=2.1.*,!=2.2.*,!=2.3.*,!=2.4.*,!=2.5.*,!=2.6.*,!=2.7.*,<3.0.0dev,>=1.34.1 (from google-api-core[grpc]!=2.0.*,!=2.1.*,!=2.2.*,!=2.3.*,!=2.4.*,!=2.5.*,!=2.6.*,!=2.7.*,<3.0.0dev,>=1.34.1->google-cloud-aiplatform)\n",
      "  Downloading google_api_core-2.19.0-py3-none-any.whl.metadata (2.7 kB)\n",
      "Requirement already satisfied: google-cloud-core<3.0dev,>=2.3.0 in /opt/conda/lib/python3.10/site-packages (from google-cloud-storage) (2.4.1)\n",
      "Requirement already satisfied: google-resumable-media>=2.6.0 in /opt/conda/lib/python3.10/site-packages (from google-cloud-storage) (2.7.0)\n",
      "Requirement already satisfied: requests<3.0.0dev,>=2.18.0 in /opt/conda/lib/python3.10/site-packages (from google-cloud-storage) (2.32.3)\n",
      "Requirement already satisfied: google-crc32c<2.0dev,>=1.0 in /opt/conda/lib/python3.10/site-packages (from google-cloud-storage) (1.5.0)\n",
      "Collecting cachecontrol>=0.12.6 (from firebase-admin)\n",
      "  Downloading cachecontrol-0.14.0-py3-none-any.whl.metadata (3.1 kB)\n",
      "Requirement already satisfied: google-api-python-client>=1.7.8 in /opt/conda/lib/python3.10/site-packages (from firebase-admin) (1.8.0)\n",
      "Requirement already satisfied: pyjwt>=2.5.0 in /opt/conda/lib/python3.10/site-packages (from pyjwt[crypto]>=2.5.0->firebase-admin) (2.8.0)\n",
      "Collecting google-cloud-firestore>=2.9.1 (from firebase-admin)\n",
      "  Downloading google_cloud_firestore-2.16.0-py2.py3-none-any.whl.metadata (5.7 kB)\n",
      "Requirement already satisfied: msgpack<2.0.0,>=0.5.2 in /opt/conda/lib/python3.10/site-packages (from cachecontrol>=0.12.6->firebase-admin) (1.0.8)\n",
      "Requirement already satisfied: googleapis-common-protos<2.0.dev0,>=1.56.2 in /opt/conda/lib/python3.10/site-packages (from google-api-core!=2.0.*,!=2.1.*,!=2.2.*,!=2.3.*,!=2.4.*,!=2.5.*,!=2.6.*,!=2.7.*,<3.0.0dev,>=1.34.1->google-api-core[grpc]!=2.0.*,!=2.1.*,!=2.2.*,!=2.3.*,!=2.4.*,!=2.5.*,!=2.6.*,!=2.7.*,<3.0.0dev,>=1.34.1->google-cloud-aiplatform) (1.63.1)\n",
      "Requirement already satisfied: grpcio<2.0dev,>=1.33.2 in /opt/conda/lib/python3.10/site-packages (from google-api-core[grpc]!=2.0.*,!=2.1.*,!=2.2.*,!=2.3.*,!=2.4.*,!=2.5.*,!=2.6.*,!=2.7.*,<3.0.0dev,>=1.34.1->google-cloud-aiplatform) (1.64.1)\n",
      "Requirement already satisfied: grpcio-status<2.0.dev0,>=1.33.2 in /opt/conda/lib/python3.10/site-packages (from google-api-core[grpc]!=2.0.*,!=2.1.*,!=2.2.*,!=2.3.*,!=2.4.*,!=2.5.*,!=2.6.*,!=2.7.*,<3.0.0dev,>=1.34.1->google-cloud-aiplatform) (1.48.2)\n",
      "Requirement already satisfied: httplib2<1dev,>=0.9.2 in /opt/conda/lib/python3.10/site-packages (from google-api-python-client>=1.7.8->firebase-admin) (0.22.0)\n",
      "Requirement already satisfied: google-auth-httplib2>=0.0.3 in /opt/conda/lib/python3.10/site-packages (from google-api-python-client>=1.7.8->firebase-admin) (0.2.0)\n",
      "INFO: pip is looking at multiple versions of google-api-python-client to determine which version is compatible with other requirements. This could take a while.\n",
      "Collecting google-api-python-client>=1.7.8 (from firebase-admin)\n",
      "  Downloading google_api_python_client-2.133.0-py2.py3-none-any.whl.metadata (6.7 kB)\n",
      "Requirement already satisfied: uritemplate<5,>=3.0.1 in /opt/conda/lib/python3.10/site-packages (from google-api-python-client>=1.7.8->firebase-admin) (3.0.1)\n",
      "Requirement already satisfied: cachetools<6.0,>=2.0.0 in /opt/conda/lib/python3.10/site-packages (from google-auth<3.0.0dev,>=2.14.1->google-cloud-aiplatform) (5.3.3)\n",
      "Requirement already satisfied: pyasn1-modules>=0.2.1 in /opt/conda/lib/python3.10/site-packages (from google-auth<3.0.0dev,>=2.14.1->google-cloud-aiplatform) (0.4.0)\n",
      "Requirement already satisfied: rsa<5,>=3.1.4 in /opt/conda/lib/python3.10/site-packages (from google-auth<3.0.0dev,>=2.14.1->google-cloud-aiplatform) (4.9)\n",
      "Requirement already satisfied: python-dateutil<3.0dev,>=2.7.2 in /opt/conda/lib/python3.10/site-packages (from google-cloud-bigquery!=3.20.0,<4.0.0dev,>=1.15.0->google-cloud-aiplatform) (2.9.0)\n",
      "Requirement already satisfied: grpc-google-iam-v1<1.0.0dev,>=0.12.4 in /opt/conda/lib/python3.10/site-packages (from google-cloud-resource-manager<3.0.0dev,>=1.3.3->google-cloud-aiplatform) (0.13.0)\n",
      "Requirement already satisfied: typing-extensions>=4.2.0 in /opt/conda/lib/python3.10/site-packages (from pydantic<3->google-cloud-aiplatform) (4.12.1)\n",
      "Requirement already satisfied: cryptography>=3.4.0 in /opt/conda/lib/python3.10/site-packages (from pyjwt[crypto]>=2.5.0->firebase-admin) (36.0.0)\n",
      "Requirement already satisfied: charset-normalizer<4,>=2 in /opt/conda/lib/python3.10/site-packages (from requests<3.0.0dev,>=2.18.0->google-cloud-storage) (3.3.2)\n",
      "Requirement already satisfied: idna<4,>=2.5 in /opt/conda/lib/python3.10/site-packages (from requests<3.0.0dev,>=2.18.0->google-cloud-storage) (3.7)\n",
      "Requirement already satisfied: urllib3<3,>=1.21.1 in /opt/conda/lib/python3.10/site-packages (from requests<3.0.0dev,>=2.18.0->google-cloud-storage) (1.26.18)\n",
      "Requirement already satisfied: certifi>=2017.4.17 in /opt/conda/lib/python3.10/site-packages (from requests<3.0.0dev,>=2.18.0->google-cloud-storage) (2024.2.2)\n",
      "Requirement already satisfied: numpy<3,>=1.14 in /opt/conda/lib/python3.10/site-packages (from shapely<3.0.0dev->google-cloud-aiplatform) (1.25.2)\n",
      "Requirement already satisfied: cffi>=1.12 in /opt/conda/lib/python3.10/site-packages (from cryptography>=3.4.0->pyjwt[crypto]>=2.5.0->firebase-admin) (1.16.0)\n",
      "Requirement already satisfied: pyparsing!=3.0.0,!=3.0.1,!=3.0.2,!=3.0.3,<4,>=2.4.2 in /opt/conda/lib/python3.10/site-packages (from httplib2<1dev,>=0.9.2->google-api-python-client>=1.7.8->firebase-admin) (3.1.2)\n",
      "Requirement already satisfied: pyasn1<0.7.0,>=0.4.6 in /opt/conda/lib/python3.10/site-packages (from pyasn1-modules>=0.2.1->google-auth<3.0.0dev,>=2.14.1->google-cloud-aiplatform) (0.6.0)\n",
      "Requirement already satisfied: six>=1.5 in /opt/conda/lib/python3.10/site-packages (from python-dateutil<3.0dev,>=2.7.2->google-cloud-bigquery!=3.20.0,<4.0.0dev,>=1.15.0->google-cloud-aiplatform) (1.16.0)\n",
      "Requirement already satisfied: pycparser in /opt/conda/lib/python3.10/site-packages (from cffi>=1.12->cryptography>=3.4.0->pyjwt[crypto]>=2.5.0->firebase-admin) (2.22)\n",
      "Downloading google_cloud_aiplatform-1.55.0-py2.py3-none-any.whl (5.1 MB)\n",
      "\u001b[2K   \u001b[90m━━━━━━━━━━━━━━━━━━━━━━━━━━━━━━━━━━━━━━━━\u001b[0m \u001b[32m5.1/5.1 MB\u001b[0m \u001b[31m22.3 MB/s\u001b[0m eta \u001b[36m0:00:00\u001b[0m00:01\u001b[0m00:01\u001b[0m\n",
      "\u001b[?25hDownloading google_cloud_storage-2.17.0-py2.py3-none-any.whl (126 kB)\n",
      "\u001b[2K   \u001b[90m━━━━━━━━━━━━━━━━━━━━━━━━━━━━━━━━━━━━━━━━\u001b[0m \u001b[32m126.5/126.5 kB\u001b[0m \u001b[31m11.7 MB/s\u001b[0m eta \u001b[36m0:00:00\u001b[0m\n",
      "\u001b[?25hDownloading firebase_admin-6.5.0-py3-none-any.whl (126 kB)\n",
      "\u001b[2K   \u001b[90m━━━━━━━━━━━━━━━━━━━━━━━━━━━━━━━━━━━━━━━━\u001b[0m \u001b[32m126.3/126.3 kB\u001b[0m \u001b[31m11.7 MB/s\u001b[0m eta \u001b[36m0:00:00\u001b[0m\n",
      "\u001b[?25hDownloading cachecontrol-0.14.0-py3-none-any.whl (22 kB)\n",
      "Downloading google_api_core-2.19.0-py3-none-any.whl (139 kB)\n",
      "\u001b[2K   \u001b[90m━━━━━━━━━━━━━━━━━━━━━━━━━━━━━━━━━━━━━━━━\u001b[0m \u001b[32m139.0/139.0 kB\u001b[0m \u001b[31m12.6 MB/s\u001b[0m eta \u001b[36m0:00:00\u001b[0m\n",
      "\u001b[?25hDownloading google_api_python_client-2.133.0-py2.py3-none-any.whl (11.8 MB)\n",
      "\u001b[2K   \u001b[90m━━━━━━━━━━━━━━━━━━━━━━━━━━━━━━━━━━━━━━━━\u001b[0m \u001b[32m11.8/11.8 MB\u001b[0m \u001b[31m58.7 MB/s\u001b[0m eta \u001b[36m0:00:00\u001b[0m00:01\u001b[0m0:01\u001b[0m\n",
      "\u001b[?25hDownloading google_cloud_firestore-2.16.0-py2.py3-none-any.whl (317 kB)\n",
      "\u001b[2K   \u001b[90m━━━━━━━━━━━━━━━━━━━━━━━━━━━━━━━━━━━━━━━━\u001b[0m \u001b[32m317.4/317.4 kB\u001b[0m \u001b[31m22.3 MB/s\u001b[0m eta \u001b[36m0:00:00\u001b[0ma \u001b[36m0:00:01\u001b[0m\n",
      "\u001b[?25hInstalling collected packages: cachecontrol, google-api-core, google-api-python-client, google-cloud-storage, google-cloud-firestore, google-cloud-aiplatform, firebase-admin\n",
      "\u001b[33m  WARNING: The script doesitcache is installed in '/root/.local/bin' which is not on PATH.\n",
      "  Consider adding this directory to PATH or, if you prefer to suppress this warning, use --no-warn-script-location.\u001b[0m\u001b[33m\n",
      "\u001b[0m\u001b[33m  WARNING: The script tb-gcp-uploader is installed in '/root/.local/bin' which is not on PATH.\n",
      "  Consider adding this directory to PATH or, if you prefer to suppress this warning, use --no-warn-script-location.\u001b[0m\u001b[33m\n",
      "\u001b[0m\u001b[31mERROR: pip's dependency resolver does not currently take into account all the packages that are installed. This behaviour is the source of the following dependency conflicts.\n",
      "cloud-tpu-client 0.10 requires google-api-python-client==1.8.0, but you have google-api-python-client 2.133.0 which is incompatible.\u001b[0m\u001b[31m\n",
      "\u001b[0mSuccessfully installed cachecontrol-0.14.0 firebase-admin-6.5.0 google-api-core-2.19.0 google-api-python-client-2.133.0 google-cloud-aiplatform-1.55.0 google-cloud-firestore-2.16.0 google-cloud-storage-2.17.0\n",
      "\u001b[33mWARNING: Running pip as the 'root' user can result in broken permissions and conflicting behaviour with the system package manager. It is recommended to use a virtual environment instead: https://pip.pypa.io/warnings/venv\u001b[0m\u001b[33m\n",
      "\u001b[0mCollecting langchain_community\n",
      "  Downloading langchain_community-0.2.4-py3-none-any.whl.metadata (2.4 kB)\n",
      "Requirement already satisfied: PyYAML>=5.3 in /opt/conda/lib/python3.10/site-packages (from langchain_community) (6.0.1)\n",
      "Requirement already satisfied: SQLAlchemy<3,>=1.4 in /opt/conda/lib/python3.10/site-packages (from langchain_community) (2.0.30)\n",
      "Requirement already satisfied: aiohttp<4.0.0,>=3.8.3 in /opt/conda/lib/python3.10/site-packages (from langchain_community) (3.9.5)\n",
      "Collecting dataclasses-json<0.7,>=0.5.7 (from langchain_community)\n",
      "  Downloading dataclasses_json-0.6.7-py3-none-any.whl.metadata (25 kB)\n",
      "Collecting langchain<0.3.0,>=0.2.0 (from langchain_community)\n",
      "  Downloading langchain-0.2.3-py3-none-any.whl.metadata (6.9 kB)\n",
      "Collecting langchain-core<0.3.0,>=0.2.0 (from langchain_community)\n",
      "  Downloading langchain_core-0.2.5-py3-none-any.whl.metadata (5.8 kB)\n",
      "Collecting langsmith<0.2.0,>=0.1.0 (from langchain_community)\n",
      "  Downloading langsmith-0.1.77-py3-none-any.whl.metadata (13 kB)\n",
      "Requirement already satisfied: numpy<2,>=1 in /opt/conda/lib/python3.10/site-packages (from langchain_community) (1.25.2)\n",
      "Requirement already satisfied: requests<3,>=2 in /opt/conda/lib/python3.10/site-packages (from langchain_community) (2.32.3)\n",
      "Requirement already satisfied: tenacity<9.0.0,>=8.1.0 in /opt/conda/lib/python3.10/site-packages (from langchain_community) (8.3.0)\n",
      "Requirement already satisfied: aiosignal>=1.1.2 in /opt/conda/lib/python3.10/site-packages (from aiohttp<4.0.0,>=3.8.3->langchain_community) (1.3.1)\n",
      "Requirement already satisfied: attrs>=17.3.0 in /opt/conda/lib/python3.10/site-packages (from aiohttp<4.0.0,>=3.8.3->langchain_community) (23.2.0)\n",
      "Requirement already satisfied: frozenlist>=1.1.1 in /opt/conda/lib/python3.10/site-packages (from aiohttp<4.0.0,>=3.8.3->langchain_community) (1.4.1)\n",
      "Requirement already satisfied: multidict<7.0,>=4.5 in /opt/conda/lib/python3.10/site-packages (from aiohttp<4.0.0,>=3.8.3->langchain_community) (6.0.5)\n",
      "Requirement already satisfied: yarl<2.0,>=1.0 in /opt/conda/lib/python3.10/site-packages (from aiohttp<4.0.0,>=3.8.3->langchain_community) (1.9.4)\n",
      "Requirement already satisfied: async-timeout<5.0,>=4.0 in /opt/conda/lib/python3.10/site-packages (from aiohttp<4.0.0,>=3.8.3->langchain_community) (4.0.3)\n",
      "Collecting marshmallow<4.0.0,>=3.18.0 (from dataclasses-json<0.7,>=0.5.7->langchain_community)\n",
      "  Downloading marshmallow-3.21.3-py3-none-any.whl.metadata (7.1 kB)\n",
      "Collecting typing-inspect<1,>=0.4.0 (from dataclasses-json<0.7,>=0.5.7->langchain_community)\n",
      "  Downloading typing_inspect-0.9.0-py3-none-any.whl.metadata (1.5 kB)\n",
      "Collecting langchain-text-splitters<0.3.0,>=0.2.0 (from langchain<0.3.0,>=0.2.0->langchain_community)\n",
      "  Downloading langchain_text_splitters-0.2.1-py3-none-any.whl.metadata (2.2 kB)\n",
      "Requirement already satisfied: pydantic<3,>=1 in /opt/conda/lib/python3.10/site-packages (from langchain<0.3.0,>=0.2.0->langchain_community) (1.10.15)\n",
      "Requirement already satisfied: jsonpatch<2.0,>=1.33 in /opt/conda/lib/python3.10/site-packages (from langchain-core<0.3.0,>=0.2.0->langchain_community) (1.33)\n",
      "Collecting packaging<24.0,>=23.2 (from langchain-core<0.3.0,>=0.2.0->langchain_community)\n",
      "  Downloading packaging-23.2-py3-none-any.whl.metadata (3.2 kB)\n",
      "Requirement already satisfied: orjson<4.0.0,>=3.9.14 in /opt/conda/lib/python3.10/site-packages (from langsmith<0.2.0,>=0.1.0->langchain_community) (3.10.3)\n",
      "Requirement already satisfied: charset-normalizer<4,>=2 in /opt/conda/lib/python3.10/site-packages (from requests<3,>=2->langchain_community) (3.3.2)\n",
      "Requirement already satisfied: idna<4,>=2.5 in /opt/conda/lib/python3.10/site-packages (from requests<3,>=2->langchain_community) (3.7)\n",
      "Requirement already satisfied: urllib3<3,>=1.21.1 in /opt/conda/lib/python3.10/site-packages (from requests<3,>=2->langchain_community) (1.26.18)\n",
      "Requirement already satisfied: certifi>=2017.4.17 in /opt/conda/lib/python3.10/site-packages (from requests<3,>=2->langchain_community) (2024.2.2)\n",
      "Requirement already satisfied: typing-extensions>=4.6.0 in /opt/conda/lib/python3.10/site-packages (from SQLAlchemy<3,>=1.4->langchain_community) (4.12.1)\n",
      "Requirement already satisfied: greenlet!=0.4.17 in /opt/conda/lib/python3.10/site-packages (from SQLAlchemy<3,>=1.4->langchain_community) (3.0.3)\n",
      "Requirement already satisfied: jsonpointer>=1.9 in /opt/conda/lib/python3.10/site-packages (from jsonpatch<2.0,>=1.33->langchain-core<0.3.0,>=0.2.0->langchain_community) (2.4)\n",
      "Collecting mypy-extensions>=0.3.0 (from typing-inspect<1,>=0.4.0->dataclasses-json<0.7,>=0.5.7->langchain_community)\n",
      "  Downloading mypy_extensions-1.0.0-py3-none-any.whl.metadata (1.1 kB)\n",
      "Downloading langchain_community-0.2.4-py3-none-any.whl (2.2 MB)\n",
      "\u001b[2K   \u001b[90m━━━━━━━━━━━━━━━━━━━━━━━━━━━━━━━━━━━━━━━━\u001b[0m \u001b[32m2.2/2.2 MB\u001b[0m \u001b[31m10.3 MB/s\u001b[0m eta \u001b[36m0:00:00\u001b[0m \u001b[36m0:00:01\u001b[0m\n",
      "\u001b[?25hDownloading dataclasses_json-0.6.7-py3-none-any.whl (28 kB)\n",
      "Downloading langchain-0.2.3-py3-none-any.whl (974 kB)\n",
      "\u001b[2K   \u001b[90m━━━━━━━━━━━━━━━━━━━━━━━━━━━━━━━━━━━━━━━━\u001b[0m \u001b[32m974.0/974.0 kB\u001b[0m \u001b[31m38.7 MB/s\u001b[0m eta \u001b[36m0:00:00\u001b[0m\n",
      "\u001b[?25hDownloading langchain_core-0.2.5-py3-none-any.whl (314 kB)\n",
      "\u001b[2K   \u001b[90m━━━━━━━━━━━━━━━━━━━━━━━━━━━━━━━━━━━━━━━━\u001b[0m \u001b[32m314.7/314.7 kB\u001b[0m \u001b[31m23.1 MB/s\u001b[0m eta \u001b[36m0:00:00\u001b[0m\n",
      "\u001b[?25hDownloading langsmith-0.1.77-py3-none-any.whl (125 kB)\n",
      "\u001b[2K   \u001b[90m━━━━━━━━━━━━━━━━━━━━━━━━━━━━━━━━━━━━━━━━\u001b[0m \u001b[32m125.2/125.2 kB\u001b[0m \u001b[31m11.1 MB/s\u001b[0m eta \u001b[36m0:00:00\u001b[0m\n",
      "\u001b[?25hDownloading langchain_text_splitters-0.2.1-py3-none-any.whl (23 kB)\n",
      "Downloading marshmallow-3.21.3-py3-none-any.whl (49 kB)\n",
      "\u001b[2K   \u001b[90m━━━━━━━━━━━━━━━━━━━━━━━━━━━━━━━━━━━━━━━━\u001b[0m \u001b[32m49.2/49.2 kB\u001b[0m \u001b[31m5.5 MB/s\u001b[0m eta \u001b[36m0:00:00\u001b[0m\n",
      "\u001b[?25hDownloading packaging-23.2-py3-none-any.whl (53 kB)\n",
      "\u001b[2K   \u001b[90m━━━━━━━━━━━━━━━━━━━━━━━━━━━━━━━━━━━━━━━━\u001b[0m \u001b[32m53.0/53.0 kB\u001b[0m \u001b[31m5.3 MB/s\u001b[0m eta \u001b[36m0:00:00\u001b[0m\n",
      "\u001b[?25hDownloading typing_inspect-0.9.0-py3-none-any.whl (8.8 kB)\n",
      "Downloading mypy_extensions-1.0.0-py3-none-any.whl (4.7 kB)\n",
      "Installing collected packages: packaging, mypy-extensions, typing-inspect, marshmallow, langsmith, langchain-core, dataclasses-json, langchain-text-splitters, langchain, langchain_community\n",
      "  Attempting uninstall: packaging\n",
      "    Found existing installation: packaging 24.0\n",
      "    Uninstalling packaging-24.0:\n",
      "      Successfully uninstalled packaging-24.0\n",
      "Successfully installed dataclasses-json-0.6.7 langchain-0.2.3 langchain-core-0.2.5 langchain-text-splitters-0.2.1 langchain_community-0.2.4 langsmith-0.1.77 marshmallow-3.21.3 mypy-extensions-1.0.0 packaging-23.2 typing-inspect-0.9.0\n",
      "\u001b[33mWARNING: Running pip as the 'root' user can result in broken permissions and conflicting behaviour with the system package manager. It is recommended to use a virtual environment instead: https://pip.pypa.io/warnings/venv\u001b[0m\u001b[33m\n",
      "\u001b[0mRequirement already satisfied: google-cloud-aiplatform in /root/.local/lib/python3.10/site-packages (1.55.0)\n",
      "Requirement already satisfied: google-api-core!=2.0.*,!=2.1.*,!=2.2.*,!=2.3.*,!=2.4.*,!=2.5.*,!=2.6.*,!=2.7.*,<3.0.0dev,>=1.34.1 in /root/.local/lib/python3.10/site-packages (from google-api-core[grpc]!=2.0.*,!=2.1.*,!=2.2.*,!=2.3.*,!=2.4.*,!=2.5.*,!=2.6.*,!=2.7.*,<3.0.0dev,>=1.34.1->google-cloud-aiplatform) (2.19.0)\n",
      "Requirement already satisfied: google-auth<3.0.0dev,>=2.14.1 in /opt/conda/lib/python3.10/site-packages (from google-cloud-aiplatform) (2.29.0)\n",
      "Requirement already satisfied: proto-plus<2.0.0dev,>=1.22.0 in /opt/conda/lib/python3.10/site-packages (from google-cloud-aiplatform) (1.23.0)\n",
      "Requirement already satisfied: protobuf!=3.20.0,!=3.20.1,!=4.21.0,!=4.21.1,!=4.21.2,!=4.21.3,!=4.21.4,!=4.21.5,<5.0.0dev,>=3.19.5 in /opt/conda/lib/python3.10/site-packages (from google-cloud-aiplatform) (3.20.3)\n",
      "Requirement already satisfied: packaging>=14.3 in /opt/conda/lib/python3.10/site-packages (from google-cloud-aiplatform) (23.2)\n",
      "Requirement already satisfied: google-cloud-storage<3.0.0dev,>=1.32.0 in /root/.local/lib/python3.10/site-packages (from google-cloud-aiplatform) (2.17.0)\n",
      "Requirement already satisfied: google-cloud-bigquery!=3.20.0,<4.0.0dev,>=1.15.0 in /opt/conda/lib/python3.10/site-packages (from google-cloud-aiplatform) (3.24.0)\n",
      "Requirement already satisfied: google-cloud-resource-manager<3.0.0dev,>=1.3.3 in /opt/conda/lib/python3.10/site-packages (from google-cloud-aiplatform) (1.12.3)\n",
      "Requirement already satisfied: shapely<3.0.0dev in /opt/conda/lib/python3.10/site-packages (from google-cloud-aiplatform) (2.0.4)\n",
      "Requirement already satisfied: pydantic<3 in /opt/conda/lib/python3.10/site-packages (from google-cloud-aiplatform) (1.10.15)\n",
      "Requirement already satisfied: docstring-parser<1 in /opt/conda/lib/python3.10/site-packages (from google-cloud-aiplatform) (0.16)\n",
      "Requirement already satisfied: googleapis-common-protos<2.0.dev0,>=1.56.2 in /opt/conda/lib/python3.10/site-packages (from google-api-core!=2.0.*,!=2.1.*,!=2.2.*,!=2.3.*,!=2.4.*,!=2.5.*,!=2.6.*,!=2.7.*,<3.0.0dev,>=1.34.1->google-api-core[grpc]!=2.0.*,!=2.1.*,!=2.2.*,!=2.3.*,!=2.4.*,!=2.5.*,!=2.6.*,!=2.7.*,<3.0.0dev,>=1.34.1->google-cloud-aiplatform) (1.63.1)\n",
      "Requirement already satisfied: requests<3.0.0.dev0,>=2.18.0 in /opt/conda/lib/python3.10/site-packages (from google-api-core!=2.0.*,!=2.1.*,!=2.2.*,!=2.3.*,!=2.4.*,!=2.5.*,!=2.6.*,!=2.7.*,<3.0.0dev,>=1.34.1->google-api-core[grpc]!=2.0.*,!=2.1.*,!=2.2.*,!=2.3.*,!=2.4.*,!=2.5.*,!=2.6.*,!=2.7.*,<3.0.0dev,>=1.34.1->google-cloud-aiplatform) (2.32.3)\n",
      "Requirement already satisfied: grpcio<2.0dev,>=1.33.2 in /opt/conda/lib/python3.10/site-packages (from google-api-core[grpc]!=2.0.*,!=2.1.*,!=2.2.*,!=2.3.*,!=2.4.*,!=2.5.*,!=2.6.*,!=2.7.*,<3.0.0dev,>=1.34.1->google-cloud-aiplatform) (1.64.1)\n",
      "Requirement already satisfied: grpcio-status<2.0.dev0,>=1.33.2 in /opt/conda/lib/python3.10/site-packages (from google-api-core[grpc]!=2.0.*,!=2.1.*,!=2.2.*,!=2.3.*,!=2.4.*,!=2.5.*,!=2.6.*,!=2.7.*,<3.0.0dev,>=1.34.1->google-cloud-aiplatform) (1.48.2)\n",
      "Requirement already satisfied: cachetools<6.0,>=2.0.0 in /opt/conda/lib/python3.10/site-packages (from google-auth<3.0.0dev,>=2.14.1->google-cloud-aiplatform) (5.3.3)\n",
      "Requirement already satisfied: pyasn1-modules>=0.2.1 in /opt/conda/lib/python3.10/site-packages (from google-auth<3.0.0dev,>=2.14.1->google-cloud-aiplatform) (0.4.0)\n",
      "Requirement already satisfied: rsa<5,>=3.1.4 in /opt/conda/lib/python3.10/site-packages (from google-auth<3.0.0dev,>=2.14.1->google-cloud-aiplatform) (4.9)\n",
      "Requirement already satisfied: google-cloud-core<3.0.0dev,>=1.6.0 in /opt/conda/lib/python3.10/site-packages (from google-cloud-bigquery!=3.20.0,<4.0.0dev,>=1.15.0->google-cloud-aiplatform) (2.4.1)\n",
      "Requirement already satisfied: google-resumable-media<3.0dev,>=0.6.0 in /opt/conda/lib/python3.10/site-packages (from google-cloud-bigquery!=3.20.0,<4.0.0dev,>=1.15.0->google-cloud-aiplatform) (2.7.0)\n",
      "Requirement already satisfied: python-dateutil<3.0dev,>=2.7.2 in /opt/conda/lib/python3.10/site-packages (from google-cloud-bigquery!=3.20.0,<4.0.0dev,>=1.15.0->google-cloud-aiplatform) (2.9.0)\n",
      "Requirement already satisfied: grpc-google-iam-v1<1.0.0dev,>=0.12.4 in /opt/conda/lib/python3.10/site-packages (from google-cloud-resource-manager<3.0.0dev,>=1.3.3->google-cloud-aiplatform) (0.13.0)\n",
      "Requirement already satisfied: google-crc32c<2.0dev,>=1.0 in /opt/conda/lib/python3.10/site-packages (from google-cloud-storage<3.0.0dev,>=1.32.0->google-cloud-aiplatform) (1.5.0)\n",
      "Requirement already satisfied: typing-extensions>=4.2.0 in /opt/conda/lib/python3.10/site-packages (from pydantic<3->google-cloud-aiplatform) (4.12.1)\n",
      "Requirement already satisfied: numpy<3,>=1.14 in /opt/conda/lib/python3.10/site-packages (from shapely<3.0.0dev->google-cloud-aiplatform) (1.25.2)\n",
      "Requirement already satisfied: pyasn1<0.7.0,>=0.4.6 in /opt/conda/lib/python3.10/site-packages (from pyasn1-modules>=0.2.1->google-auth<3.0.0dev,>=2.14.1->google-cloud-aiplatform) (0.6.0)\n",
      "Requirement already satisfied: six>=1.5 in /opt/conda/lib/python3.10/site-packages (from python-dateutil<3.0dev,>=2.7.2->google-cloud-bigquery!=3.20.0,<4.0.0dev,>=1.15.0->google-cloud-aiplatform) (1.16.0)\n",
      "Requirement already satisfied: charset-normalizer<4,>=2 in /opt/conda/lib/python3.10/site-packages (from requests<3.0.0.dev0,>=2.18.0->google-api-core!=2.0.*,!=2.1.*,!=2.2.*,!=2.3.*,!=2.4.*,!=2.5.*,!=2.6.*,!=2.7.*,<3.0.0dev,>=1.34.1->google-api-core[grpc]!=2.0.*,!=2.1.*,!=2.2.*,!=2.3.*,!=2.4.*,!=2.5.*,!=2.6.*,!=2.7.*,<3.0.0dev,>=1.34.1->google-cloud-aiplatform) (3.3.2)\n",
      "Requirement already satisfied: idna<4,>=2.5 in /opt/conda/lib/python3.10/site-packages (from requests<3.0.0.dev0,>=2.18.0->google-api-core!=2.0.*,!=2.1.*,!=2.2.*,!=2.3.*,!=2.4.*,!=2.5.*,!=2.6.*,!=2.7.*,<3.0.0dev,>=1.34.1->google-api-core[grpc]!=2.0.*,!=2.1.*,!=2.2.*,!=2.3.*,!=2.4.*,!=2.5.*,!=2.6.*,!=2.7.*,<3.0.0dev,>=1.34.1->google-cloud-aiplatform) (3.7)\n",
      "Requirement already satisfied: urllib3<3,>=1.21.1 in /opt/conda/lib/python3.10/site-packages (from requests<3.0.0.dev0,>=2.18.0->google-api-core!=2.0.*,!=2.1.*,!=2.2.*,!=2.3.*,!=2.4.*,!=2.5.*,!=2.6.*,!=2.7.*,<3.0.0dev,>=1.34.1->google-api-core[grpc]!=2.0.*,!=2.1.*,!=2.2.*,!=2.3.*,!=2.4.*,!=2.5.*,!=2.6.*,!=2.7.*,<3.0.0dev,>=1.34.1->google-cloud-aiplatform) (1.26.18)\n",
      "Requirement already satisfied: certifi>=2017.4.17 in /opt/conda/lib/python3.10/site-packages (from requests<3.0.0.dev0,>=2.18.0->google-api-core!=2.0.*,!=2.1.*,!=2.2.*,!=2.3.*,!=2.4.*,!=2.5.*,!=2.6.*,!=2.7.*,<3.0.0dev,>=1.34.1->google-api-core[grpc]!=2.0.*,!=2.1.*,!=2.2.*,!=2.3.*,!=2.4.*,!=2.5.*,!=2.6.*,!=2.7.*,<3.0.0dev,>=1.34.1->google-cloud-aiplatform) (2024.2.2)\n",
      "\u001b[33mWARNING: Running pip as the 'root' user can result in broken permissions and conflicting behaviour with the system package manager. It is recommended to use a virtual environment instead: https://pip.pypa.io/warnings/venv\u001b[0m\u001b[33m\n",
      "\u001b[0mRequirement already satisfied: google-cloud-storage in /root/.local/lib/python3.10/site-packages (2.17.0)\n",
      "Requirement already satisfied: google-auth<3.0dev,>=2.26.1 in /opt/conda/lib/python3.10/site-packages (from google-cloud-storage) (2.29.0)\n",
      "Requirement already satisfied: google-api-core<3.0.0dev,>=2.15.0 in /root/.local/lib/python3.10/site-packages (from google-cloud-storage) (2.19.0)\n",
      "Requirement already satisfied: google-cloud-core<3.0dev,>=2.3.0 in /opt/conda/lib/python3.10/site-packages (from google-cloud-storage) (2.4.1)\n",
      "Requirement already satisfied: google-resumable-media>=2.6.0 in /opt/conda/lib/python3.10/site-packages (from google-cloud-storage) (2.7.0)\n",
      "Requirement already satisfied: requests<3.0.0dev,>=2.18.0 in /opt/conda/lib/python3.10/site-packages (from google-cloud-storage) (2.32.3)\n",
      "Requirement already satisfied: google-crc32c<2.0dev,>=1.0 in /opt/conda/lib/python3.10/site-packages (from google-cloud-storage) (1.5.0)\n",
      "Requirement already satisfied: googleapis-common-protos<2.0.dev0,>=1.56.2 in /opt/conda/lib/python3.10/site-packages (from google-api-core<3.0.0dev,>=2.15.0->google-cloud-storage) (1.63.1)\n",
      "Requirement already satisfied: protobuf!=3.20.0,!=3.20.1,!=4.21.0,!=4.21.1,!=4.21.2,!=4.21.3,!=4.21.4,!=4.21.5,<5.0.0.dev0,>=3.19.5 in /opt/conda/lib/python3.10/site-packages (from google-api-core<3.0.0dev,>=2.15.0->google-cloud-storage) (3.20.3)\n",
      "Requirement already satisfied: proto-plus<2.0.0dev,>=1.22.3 in /opt/conda/lib/python3.10/site-packages (from google-api-core<3.0.0dev,>=2.15.0->google-cloud-storage) (1.23.0)\n",
      "Requirement already satisfied: cachetools<6.0,>=2.0.0 in /opt/conda/lib/python3.10/site-packages (from google-auth<3.0dev,>=2.26.1->google-cloud-storage) (5.3.3)\n",
      "Requirement already satisfied: pyasn1-modules>=0.2.1 in /opt/conda/lib/python3.10/site-packages (from google-auth<3.0dev,>=2.26.1->google-cloud-storage) (0.4.0)\n",
      "Requirement already satisfied: rsa<5,>=3.1.4 in /opt/conda/lib/python3.10/site-packages (from google-auth<3.0dev,>=2.26.1->google-cloud-storage) (4.9)\n",
      "Requirement already satisfied: charset-normalizer<4,>=2 in /opt/conda/lib/python3.10/site-packages (from requests<3.0.0dev,>=2.18.0->google-cloud-storage) (3.3.2)\n",
      "Requirement already satisfied: idna<4,>=2.5 in /opt/conda/lib/python3.10/site-packages (from requests<3.0.0dev,>=2.18.0->google-cloud-storage) (3.7)\n",
      "Requirement already satisfied: urllib3<3,>=1.21.1 in /opt/conda/lib/python3.10/site-packages (from requests<3.0.0dev,>=2.18.0->google-cloud-storage) (1.26.18)\n",
      "Requirement already satisfied: certifi>=2017.4.17 in /opt/conda/lib/python3.10/site-packages (from requests<3.0.0dev,>=2.18.0->google-cloud-storage) (2024.2.2)\n",
      "Requirement already satisfied: pyasn1<0.7.0,>=0.4.6 in /opt/conda/lib/python3.10/site-packages (from pyasn1-modules>=0.2.1->google-auth<3.0dev,>=2.26.1->google-cloud-storage) (0.6.0)\n",
      "\u001b[33mWARNING: Running pip as the 'root' user can result in broken permissions and conflicting behaviour with the system package manager. It is recommended to use a virtual environment instead: https://pip.pypa.io/warnings/venv\u001b[0m\u001b[33m\n",
      "\u001b[0mRequirement already satisfied: langchain_community in /opt/conda/lib/python3.10/site-packages (0.2.4)\n",
      "Requirement already satisfied: PyYAML>=5.3 in /opt/conda/lib/python3.10/site-packages (from langchain_community) (6.0.1)\n",
      "Requirement already satisfied: SQLAlchemy<3,>=1.4 in /opt/conda/lib/python3.10/site-packages (from langchain_community) (2.0.30)\n",
      "Requirement already satisfied: aiohttp<4.0.0,>=3.8.3 in /opt/conda/lib/python3.10/site-packages (from langchain_community) (3.9.5)\n",
      "Requirement already satisfied: dataclasses-json<0.7,>=0.5.7 in /opt/conda/lib/python3.10/site-packages (from langchain_community) (0.6.7)\n",
      "Requirement already satisfied: langchain<0.3.0,>=0.2.0 in /opt/conda/lib/python3.10/site-packages (from langchain_community) (0.2.3)\n",
      "Requirement already satisfied: langchain-core<0.3.0,>=0.2.0 in /opt/conda/lib/python3.10/site-packages (from langchain_community) (0.2.5)\n",
      "Requirement already satisfied: langsmith<0.2.0,>=0.1.0 in /opt/conda/lib/python3.10/site-packages (from langchain_community) (0.1.77)\n",
      "Requirement already satisfied: numpy<2,>=1 in /opt/conda/lib/python3.10/site-packages (from langchain_community) (1.25.2)\n",
      "Requirement already satisfied: requests<3,>=2 in /opt/conda/lib/python3.10/site-packages (from langchain_community) (2.32.3)\n",
      "Requirement already satisfied: tenacity<9.0.0,>=8.1.0 in /opt/conda/lib/python3.10/site-packages (from langchain_community) (8.3.0)\n",
      "Requirement already satisfied: aiosignal>=1.1.2 in /opt/conda/lib/python3.10/site-packages (from aiohttp<4.0.0,>=3.8.3->langchain_community) (1.3.1)\n",
      "Requirement already satisfied: attrs>=17.3.0 in /opt/conda/lib/python3.10/site-packages (from aiohttp<4.0.0,>=3.8.3->langchain_community) (23.2.0)\n",
      "Requirement already satisfied: frozenlist>=1.1.1 in /opt/conda/lib/python3.10/site-packages (from aiohttp<4.0.0,>=3.8.3->langchain_community) (1.4.1)\n",
      "Requirement already satisfied: multidict<7.0,>=4.5 in /opt/conda/lib/python3.10/site-packages (from aiohttp<4.0.0,>=3.8.3->langchain_community) (6.0.5)\n",
      "Requirement already satisfied: yarl<2.0,>=1.0 in /opt/conda/lib/python3.10/site-packages (from aiohttp<4.0.0,>=3.8.3->langchain_community) (1.9.4)\n",
      "Requirement already satisfied: async-timeout<5.0,>=4.0 in /opt/conda/lib/python3.10/site-packages (from aiohttp<4.0.0,>=3.8.3->langchain_community) (4.0.3)\n",
      "Requirement already satisfied: marshmallow<4.0.0,>=3.18.0 in /opt/conda/lib/python3.10/site-packages (from dataclasses-json<0.7,>=0.5.7->langchain_community) (3.21.3)\n",
      "Requirement already satisfied: typing-inspect<1,>=0.4.0 in /opt/conda/lib/python3.10/site-packages (from dataclasses-json<0.7,>=0.5.7->langchain_community) (0.9.0)\n",
      "Requirement already satisfied: langchain-text-splitters<0.3.0,>=0.2.0 in /opt/conda/lib/python3.10/site-packages (from langchain<0.3.0,>=0.2.0->langchain_community) (0.2.1)\n",
      "Requirement already satisfied: pydantic<3,>=1 in /opt/conda/lib/python3.10/site-packages (from langchain<0.3.0,>=0.2.0->langchain_community) (1.10.15)\n",
      "Requirement already satisfied: jsonpatch<2.0,>=1.33 in /opt/conda/lib/python3.10/site-packages (from langchain-core<0.3.0,>=0.2.0->langchain_community) (1.33)\n",
      "Requirement already satisfied: packaging<24.0,>=23.2 in /opt/conda/lib/python3.10/site-packages (from langchain-core<0.3.0,>=0.2.0->langchain_community) (23.2)\n",
      "Requirement already satisfied: orjson<4.0.0,>=3.9.14 in /opt/conda/lib/python3.10/site-packages (from langsmith<0.2.0,>=0.1.0->langchain_community) (3.10.3)\n",
      "Requirement already satisfied: charset-normalizer<4,>=2 in /opt/conda/lib/python3.10/site-packages (from requests<3,>=2->langchain_community) (3.3.2)\n",
      "Requirement already satisfied: idna<4,>=2.5 in /opt/conda/lib/python3.10/site-packages (from requests<3,>=2->langchain_community) (3.7)\n",
      "Requirement already satisfied: urllib3<3,>=1.21.1 in /opt/conda/lib/python3.10/site-packages (from requests<3,>=2->langchain_community) (1.26.18)\n",
      "Requirement already satisfied: certifi>=2017.4.17 in /opt/conda/lib/python3.10/site-packages (from requests<3,>=2->langchain_community) (2024.2.2)\n",
      "Requirement already satisfied: typing-extensions>=4.6.0 in /opt/conda/lib/python3.10/site-packages (from SQLAlchemy<3,>=1.4->langchain_community) (4.12.1)\n",
      "Requirement already satisfied: greenlet!=0.4.17 in /opt/conda/lib/python3.10/site-packages (from SQLAlchemy<3,>=1.4->langchain_community) (3.0.3)\n",
      "Requirement already satisfied: jsonpointer>=1.9 in /opt/conda/lib/python3.10/site-packages (from jsonpatch<2.0,>=1.33->langchain-core<0.3.0,>=0.2.0->langchain_community) (2.4)\n",
      "Requirement already satisfied: mypy-extensions>=0.3.0 in /opt/conda/lib/python3.10/site-packages (from typing-inspect<1,>=0.4.0->dataclasses-json<0.7,>=0.5.7->langchain_community) (1.0.0)\n",
      "\u001b[33mWARNING: Running pip as the 'root' user can result in broken permissions and conflicting behaviour with the system package manager. It is recommended to use a virtual environment instead: https://pip.pypa.io/warnings/venv\u001b[0m\u001b[33m\n",
      "\u001b[0mRequirement already satisfied: langchain in /opt/conda/lib/python3.10/site-packages (0.2.3)\n",
      "Requirement already satisfied: PyYAML>=5.3 in /opt/conda/lib/python3.10/site-packages (from langchain) (6.0.1)\n",
      "Requirement already satisfied: SQLAlchemy<3,>=1.4 in /opt/conda/lib/python3.10/site-packages (from langchain) (2.0.30)\n",
      "Requirement already satisfied: aiohttp<4.0.0,>=3.8.3 in /opt/conda/lib/python3.10/site-packages (from langchain) (3.9.5)\n",
      "Requirement already satisfied: async-timeout<5.0.0,>=4.0.0 in /opt/conda/lib/python3.10/site-packages (from langchain) (4.0.3)\n",
      "Requirement already satisfied: langchain-core<0.3.0,>=0.2.0 in /opt/conda/lib/python3.10/site-packages (from langchain) (0.2.5)\n",
      "Requirement already satisfied: langchain-text-splitters<0.3.0,>=0.2.0 in /opt/conda/lib/python3.10/site-packages (from langchain) (0.2.1)\n",
      "Requirement already satisfied: langsmith<0.2.0,>=0.1.17 in /opt/conda/lib/python3.10/site-packages (from langchain) (0.1.77)\n",
      "Requirement already satisfied: numpy<2,>=1 in /opt/conda/lib/python3.10/site-packages (from langchain) (1.25.2)\n",
      "Requirement already satisfied: pydantic<3,>=1 in /opt/conda/lib/python3.10/site-packages (from langchain) (1.10.15)\n",
      "Requirement already satisfied: requests<3,>=2 in /opt/conda/lib/python3.10/site-packages (from langchain) (2.32.3)\n",
      "Requirement already satisfied: tenacity<9.0.0,>=8.1.0 in /opt/conda/lib/python3.10/site-packages (from langchain) (8.3.0)\n",
      "Requirement already satisfied: aiosignal>=1.1.2 in /opt/conda/lib/python3.10/site-packages (from aiohttp<4.0.0,>=3.8.3->langchain) (1.3.1)\n",
      "Requirement already satisfied: attrs>=17.3.0 in /opt/conda/lib/python3.10/site-packages (from aiohttp<4.0.0,>=3.8.3->langchain) (23.2.0)\n",
      "Requirement already satisfied: frozenlist>=1.1.1 in /opt/conda/lib/python3.10/site-packages (from aiohttp<4.0.0,>=3.8.3->langchain) (1.4.1)\n",
      "Requirement already satisfied: multidict<7.0,>=4.5 in /opt/conda/lib/python3.10/site-packages (from aiohttp<4.0.0,>=3.8.3->langchain) (6.0.5)\n",
      "Requirement already satisfied: yarl<2.0,>=1.0 in /opt/conda/lib/python3.10/site-packages (from aiohttp<4.0.0,>=3.8.3->langchain) (1.9.4)\n",
      "Requirement already satisfied: jsonpatch<2.0,>=1.33 in /opt/conda/lib/python3.10/site-packages (from langchain-core<0.3.0,>=0.2.0->langchain) (1.33)\n",
      "Requirement already satisfied: packaging<24.0,>=23.2 in /opt/conda/lib/python3.10/site-packages (from langchain-core<0.3.0,>=0.2.0->langchain) (23.2)\n",
      "Requirement already satisfied: orjson<4.0.0,>=3.9.14 in /opt/conda/lib/python3.10/site-packages (from langsmith<0.2.0,>=0.1.17->langchain) (3.10.3)\n",
      "Requirement already satisfied: typing-extensions>=4.2.0 in /opt/conda/lib/python3.10/site-packages (from pydantic<3,>=1->langchain) (4.12.1)\n",
      "Requirement already satisfied: charset-normalizer<4,>=2 in /opt/conda/lib/python3.10/site-packages (from requests<3,>=2->langchain) (3.3.2)\n",
      "Requirement already satisfied: idna<4,>=2.5 in /opt/conda/lib/python3.10/site-packages (from requests<3,>=2->langchain) (3.7)\n",
      "Requirement already satisfied: urllib3<3,>=1.21.1 in /opt/conda/lib/python3.10/site-packages (from requests<3,>=2->langchain) (1.26.18)\n",
      "Requirement already satisfied: certifi>=2017.4.17 in /opt/conda/lib/python3.10/site-packages (from requests<3,>=2->langchain) (2024.2.2)\n",
      "Requirement already satisfied: greenlet!=0.4.17 in /opt/conda/lib/python3.10/site-packages (from SQLAlchemy<3,>=1.4->langchain) (3.0.3)\n",
      "Requirement already satisfied: jsonpointer>=1.9 in /opt/conda/lib/python3.10/site-packages (from jsonpatch<2.0,>=1.33->langchain-core<0.3.0,>=0.2.0->langchain) (2.4)\n",
      "\u001b[33mWARNING: Running pip as the 'root' user can result in broken permissions and conflicting behaviour with the system package manager. It is recommended to use a virtual environment instead: https://pip.pypa.io/warnings/venv\u001b[0m\u001b[33m\n",
      "\u001b[0mCollecting pypdf\n",
      "  Downloading pypdf-4.2.0-py3-none-any.whl.metadata (7.4 kB)\n",
      "Requirement already satisfied: typing_extensions>=4.0 in /opt/conda/lib/python3.10/site-packages (from pypdf) (4.12.1)\n",
      "Downloading pypdf-4.2.0-py3-none-any.whl (290 kB)\n",
      "\u001b[2K   \u001b[90m━━━━━━━━━━━━━━━━━━━━━━━━━━━━━━━━━━━━━━━━\u001b[0m \u001b[32m290.4/290.4 kB\u001b[0m \u001b[31m1.3 MB/s\u001b[0m eta \u001b[36m0:00:00\u001b[0m00:01\u001b[0m00:01\u001b[0m\n",
      "\u001b[?25hInstalling collected packages: pypdf\n",
      "Successfully installed pypdf-4.2.0\n",
      "\u001b[33mWARNING: Running pip as the 'root' user can result in broken permissions and conflicting behaviour with the system package manager. It is recommended to use a virtual environment instead: https://pip.pypa.io/warnings/venv\u001b[0m\u001b[33m\n",
      "\u001b[0m"
     ]
    }
   ],
   "source": [
    "!pip install --upgrade --user google-cloud-aiplatform google-cloud-storage firebase-admin\n",
    "!pip install langchain_community\n",
    "!pip install google-cloud-aiplatform\n",
    "!pip install google-cloud-storage\n",
    "!pip install langchain_community\n",
    "!pip install langchain\n",
    "!pip install pypdf"
   ]
  },
  {
   "cell_type": "code",
   "execution_count": 2,
   "id": "e749134b-01d0-4cb2-9b2b-410d37da2dfa",
   "metadata": {
    "tags": []
   },
   "outputs": [
    {
     "data": {
      "text/plain": [
       "{'status': 'ok', 'restart': True}"
      ]
     },
     "execution_count": 2,
     "metadata": {},
     "output_type": "execute_result"
    }
   ],
   "source": [
    "import IPython\n",
    "from IPython.display import Markdown, display\n",
    "import time\n",
    "\n",
    "app = IPython.Application.instance()\n",
    "app.kernel.do_shutdown(True)"
   ]
  },
  {
   "cell_type": "code",
   "execution_count": 1,
   "id": "7a92abdb-a486-4dd0-8c38-e5bcba117e76",
   "metadata": {
    "tags": []
   },
   "outputs": [],
   "source": [
    "# get project ID\n",
    "PROJECT_ID = ! gcloud config get project\n",
    "PROJECT_ID = PROJECT_ID[0]\n",
    "LOCATION = \"us-central1\"\n",
    "\n",
    "# generate an unique id for this session\n",
    "from datetime import datetime\n",
    "\n",
    "UID = datetime.now().strftime(\"%m%d%H%M\")\n",
    "\n",
    "\n",
    "import vertexai\n",
    "\n",
    "# Initialize Vertex AI SDK\n",
    "vertexai.init(project=PROJECT_ID, location=LOCATION)"
   ]
  },
  {
   "cell_type": "code",
   "execution_count": 4,
   "id": "e77ec65a-aa34-49fb-8117-871872924203",
   "metadata": {
    "tags": []
   },
   "outputs": [
    {
     "name": "stdout",
     "output_type": "stream",
     "text": [
      "126\n",
      "page_content='/H20321/H20321Store foods away from dripping\\ncondensate , at least six inches above\\nthe floor and with enough space\\nbetween items to encourage aircirculation.\\nFreezer Storage\\nFreezing is an excellent method\\nfor prolonging the shelf life of foods.By keeping foods frozen solid, thebacterial growth is minimal at best.However, if frozen foods are thawedand then refrozen, then harmfulbacteria can reproduce to dangerouslevels when thawed for the secondtime. In addition to that, the quality ofthe food is also affected. Never re-freeze thawed foods, instead use themimmediately. Keep the followingrules in mind for freezer storage:\\n/H20321/H20321Use First In First Out method of\\nstock rotation.\\n/H20321/H20321All frozen foods should be frozen\\nsolid with temperature at 0°F orlower.\\n/H20321/H20321Always use clean containers that\\nare clearly labeled and marked,and have proper and secure lids. \\n/H20321/H20321Allow adequate spacing between\\nfood containers to allow for properair circulation.\\n/H20321/H20321Never use the freezer for cooling\\nhot foods.\\n**Tip: When receiving multiple\\nitems, always store the frozen foodsfirst, then foods that are to be refrig-erated, and finally the non perishabledry goods .\\nDry Storage\\nProper storage of dry foods such\\nas cereals, flour, rice, starches, spices,canned goods, packaged foods and\\nvegetables that do not require refrig-eration ensures that these foods willstill be usable when needed. Adequatestorage space as well as low humidity(50% or less), and low temperatures(70 °F or less) are strongly recom-mended. In addition to the above,avoid sunlight as it may affect thequality of some foods. Following aresome of the guidelines:\\n/H20321/H20321Use First In First Out method of\\nstock rotation.\\n/H20321/H20321Keep foods at least 6 inches off the\\nfloor. This allows for proper cleaningand to detect vermin activity.\\n/H20321/H20321Keep foods in containers with\\ntightly fitted lids.\\n/H20321/H20321Keep dry storage areas well light-\\ned and ventilated.\\n/H20321/H20321Install shades on windows to pre-\\nvent exposure from sunlight.\\n/H20321/H20321Do not store foods under over-\\nhead water lines that may dripdue to leaks or condensation.\\n/H20321/H20321Do not store garbage in dry food\\nstorage areas.\\n/H20321/H20321Make sure that dry storage area is\\nvermin proof by sealing walls andbaseboards and by repairing holesand other openings.\\n**Safety Tip: Storage of harmful\\nchemicals in the food storage areascan create hazardous situations andhence is prohibited by law. All chemi-cals must be labeled properly andused in accordance to the instructionson the label. Pesticide use is prohibit-ed unless used by a licensed pest con-trol officer.\\nStorage in Ice\\nWhenever food items are to be\\nstored in ice, care must be taken toensure that water from the meltedice is constantly being drained sothat the food remains on ice andnot immersed in iced water.\\nFurthermore, it is improper to\\nstore food in ice machines or icethat will be later used for humanconsumption./H20321/H20321Food should be stored at least six\\ninches off the floor, away from wallsand dripping pipes.\\n/H20321/H20321Keep all food, bulk or otherwise,\\ncovered and safe from contamina-tion.\\n/H20321/H20321Check food daily and throw away\\nany spoiled or contaminated food.\\n/H20321/H20321Store cleaning, disinfecting, and\\nother chemicals away from foods,clearly marked and in their original\\ncontainers.\\n/H20321/H20321Keep food refrigerated at a tem-\\nperature of 41°F or below.\\n/H20321/H20321Monitor temperatures regularly\\nwith a thermometer placed in thewarmest part of the refrigerator.\\n/H20321/H20321Keep all cooling compartments\\nclosed except when you are usingthem.\\n/H20321/H20321Store food in a refrigerator in\\nsuch a way that the air inside cancirculate freely.\\n/H20321/H20321Keep all refrigerated foods covered,\\nand use up stored leftovers quickly.\\n/H20321/H20321When dishes and utensils are\\nsparkling clean, keep them thatway by proper storage. Keep allcups and glasses inverted.' metadata={'source': 'fpc-manual.pdf', 'page': 8}\n"
     ]
    }
   ],
   "source": [
    "from langchain.document_loaders import PyPDFLoader\n",
    "loader = PyPDFLoader(\"fpc-manual.pdf\")\n",
    "pages = loader.load_and_split()\n",
    "print(len(pages))\n",
    "print(pages[10])"
   ]
  },
  {
   "cell_type": "code",
   "execution_count": 5,
   "id": "dfbdf58f-faa1-457a-b909-3f5893c111af",
   "metadata": {
    "tags": []
   },
   "outputs": [],
   "source": [
    "import vertexai\n",
    "from vertexai.language_models import TextEmbeddingModel\n",
    "embedding_model = TextEmbeddingModel.from_pretrained(\"textembedding-gecko@002\")\n",
    "# Generate embeddings for each page\n",
    "embeddings = embeddings = [embedding_model.get_embeddings([page.page_content])[0] for page in pages]"
   ]
  },
  {
   "cell_type": "code",
   "execution_count": 6,
   "id": "7a90a6ee-830a-4ac7-ada3-4f1e6b59ca97",
   "metadata": {
    "tags": []
   },
   "outputs": [
    {
     "name": "stdout",
     "output_type": "stream",
     "text": [
      "Length of the first vector: 768\n",
      "First vector: [-0.014551563188433647, -0.0347423329949379, -0.05348101630806923, 0.023631349205970764, 0.007029604632407427, -0.052199747413396835, 0.022074319422245026, 0.02028043009340763, 0.011824054643511772, 0.04181516170501709, -0.008813895285129547, -0.012041384354233742, 0.05240508168935776, 0.007099385838955641, -0.02535090409219265, -0.008589171804487705, -0.062673419713974, -0.026467768475413322, 0.047733016312122345, 0.0324660986661911, -0.06832766532897949, -0.04218829795718193, 0.006558739580214024, 0.02518017403781414, 0.0004946303670294583, -0.08242819458246231, -0.02580430544912815, 0.017687266692519188, -0.014445845037698746, 0.029930753633379936, -0.04174208268523216, 0.0033266975078731775, -0.03375258669257164, 0.013336879201233387, 0.020129090175032616, 0.010927137918770313, -0.016849493607878685, 0.032285176217556, 0.012363732792437077, 0.06759518384933472, 0.013745409436523914, -0.0233285054564476, 0.04777534678578377, 0.029837504029273987, 0.02015169896185398, -0.005850194953382015, -0.05987587571144104, 0.012546142563223839, -0.00608476810157299, -0.043183814734220505, -0.045505866408348083, -0.030812200158834457, 0.015299378894269466, 0.03661799430847168, 0.0038721116725355387, 0.019895153120160103, -0.03417529910802841, -0.010786371305584908, -0.018564578145742416, 0.01733996905386448, -0.02652830258011818, -0.01933157630264759, 0.013289948925375938, -0.02729056216776371, 0.01947537623345852, 0.024363042786717415, 0.026608871296048164, -0.012670441530644894, -0.02988533116877079, -0.02465386874973774, 0.002569658914580941, 0.042496487498283386, -0.027216264978051186, -0.007711140438914299, 0.054821550846099854, 0.004478482063859701, 0.024630295112729073, 0.010934419929981232, 0.034623753279447556, -0.05327163264155388, 0.006460977718234062, 0.01329299807548523, -0.04305196925997734, -0.12709401547908783, -0.04986358433961868, 0.06539923697710037, -0.04002206400036812, 0.047801148146390915, -0.04734189435839653, 0.02926160953938961, -0.04508727416396141, -0.01296347938477993, 0.005376692395657301, 0.03518037125468254, -0.08953192830085754, -0.04935198649764061, -0.02826038934290409, 0.015402819961309433, -0.041180986911058426, -0.03897278010845184, 0.002686437452211976, -0.038516659289598465, 0.03636569157242775, -0.00498593132942915, 0.005901571828871965, -0.007603590376675129, -0.013683334924280643, 0.007169985678046942, -0.025208353996276855, -0.11971548944711685, -0.07026390731334686, 0.004115604795515537, -0.0467909574508667, 0.0011267990339547396, 0.03324861451983452, -0.02686261758208275, 0.004952617455273867, -0.019531846046447754, -0.012491057626903057, 0.022063758224248886, -0.03490372747182846, 0.021306758746504784, 0.023806236684322357, 0.06360770016908646, -0.03410395607352257, -0.01642249897122383, 0.009271742776036263, -0.03561696410179138, 0.027190204709768295, -0.004721628502011299, 0.02976004034280777, -0.014131150208413601, 0.060434818267822266, -0.060707274824380875, 0.039076030254364014, 0.018162311986088753, 0.02237653359770775, 0.019924575462937355, 0.037677522748708725, 0.06441973149776459, -0.07659924030303955, 0.011985795572400093, 0.030409928411245346, 0.007858103141188622, -0.04824257269501686, -0.014756135642528534, 0.055648382753133774, -0.023600315675139427, -0.07014647126197815, -0.05003400519490242, 0.004922480322420597, -0.006052342709153891, -0.03782007470726967, 0.029363378882408142, 0.05248500034213066, 0.010889627039432526, 0.03755337372422218, 0.06496075540781021, -0.008092650212347507, -0.056505199521780014, -0.026741627603769302, -0.002278295811265707, -0.03477231413125992, -0.019079241901636124, 0.058299869298934937, 0.03225064277648926, 0.012781746685504913, 0.007241442333906889, -0.021636029705405235, 0.026027537882328033, 0.028700541704893112, -0.15639236569404602, 0.04049520194530487, -0.03277803957462311, 0.08084625005722046, 0.01418394222855568, -0.027716610580682755, 0.015410881489515305, -0.005104532930999994, -0.020818479359149933, -0.023066798225045204, -0.055919092148542404, -0.020699666813015938, 0.018658949062228203, -0.0736769512295723, -0.0315430723130703, 0.0032175586093217134, -0.008336350321769714, -0.035688094794750214, 0.05769597366452217, -0.0065604085102677345, 0.03782935068011284, -0.03275252878665924, -0.09058959782123566, -0.017969820648431778, -0.023780260235071182, 0.03674498200416565, -0.13343361020088196, -0.020849743857979774, 0.002756534842774272, -0.024265771731734276, -0.011203154921531677, -0.007359684910625219, 0.04406922683119774, -0.02336007170379162, -0.005406705662608147, -0.052072733640670776, 0.02298661135137081, 0.010970724746584892, 0.017975296825170517, -0.014920497313141823, 0.01434172224253416, 0.040925268083810806, -0.007327595725655556, 0.01337085198611021, -0.022893017157912254, -0.03690279647707939, -0.04342476278543472, -0.06002231687307358, -0.026412837207317352, -0.007962345145642757, 0.008532003499567509, 0.05498826876282692, 0.054954782128334045, 0.005488671362400055, 0.018943630158901215, 0.018864277750253677, 0.01794651336967945, -0.007533022668212652, 0.040366314351558685, 0.006544462870806456, 0.00803321972489357, -0.042151760309934616, 0.003041553311049938, 0.0185297429561615, 0.03627978265285492, 0.00451479759067297, 0.024071136489510536, -0.050756845623254776, 0.0170066487044096, 0.016129685565829277, 0.05636536702513695, -0.044652752578258514, 0.01909784972667694, -0.016472071409225464, -0.0003911264066118747, -0.015344644896686077, 0.053007181733846664, 0.03577325865626335, -0.0334288626909256, 0.08308146893978119, -0.02238406427204609, 0.0035561672411859035, 0.036930426955223083, 0.04775984585285187, -0.019029101356863976, -0.0056801713071763515, 0.04158609360456467, -0.01774785853922367, 0.06610020995140076, 0.01836216263473034, 0.01338810846209526, -0.010565587319433689, 0.13891713321208954, -0.0659533217549324, -0.01278196182101965, -0.08546846359968185, -0.027103733271360397, 0.03664533793926239, -0.04746352881193161, -0.025390779599547386, -0.021529102697968483, 0.030836479738354683, 0.02884490415453911, -0.011241540312767029, 0.006341809406876564, -0.028979331254959106, 0.04966725409030914, 0.04518724977970123, 0.0482359379529953, -0.01062828954309225, -0.0023937372025102377, 0.015472442843019962, 0.003436283441260457, 0.01941647194325924, 0.06100650876760483, -0.03030483052134514, 0.020602716132998466, -0.007024361286312342, -0.021547831594944, 0.0517011396586895, 0.0075995284132659435, 0.006020677275955677, 0.054072074592113495, 0.02337600290775299, -0.009267396293580532, 0.03182299807667732, 0.0034304121509194374, -0.00892197247594595, 0.03975863754749298, -0.016538137570023537, -0.025213219225406647, -0.025312844663858414, -0.023151975125074387, -0.07335667312145233, -0.01478002779185772, -0.025044694542884827, -0.0293696578592062, 0.07103615254163742, 0.02656589448451996, -0.012338251806795597, -0.0020162288565188646, 0.02846204861998558, 0.03693178668618202, -0.023292023688554764, 0.042814500629901886, 0.04320737347006798, 0.008639906533062458, -0.0982409417629242, 0.08895741403102875, -0.06005263328552246, 0.008344180881977081, 0.07358647882938385, -0.009043090976774693, 0.00829835794866085, -0.023691553622484207, -0.017725180834531784, -0.008352216333150864, 0.03561244532465935, -0.026395075023174286, -0.03917432203888893, 0.040433429181575775, -0.02423400618135929, 0.02899053879082203, -0.007936662994325161, -0.017942333593964577, 0.041839003562927246, 0.020198363810777664, -0.0005339269409887493, -0.04655689001083374, 0.013451977632939816, -0.025373516604304314, -0.017552170902490616, -0.017873665317893028, -0.022607654333114624, 0.018015753477811813, -0.02982461266219616, -0.029952744022011757, -0.025595838204026222, -0.044845595955848694, -0.02533533424139023, 0.011709915474057198, -0.013446478173136711, 0.04635268449783325, 0.013576759956777096, 0.03460642695426941, 0.01809357851743698, 0.02150481566786766, 0.02198052406311035, -0.022861182689666748, -0.0180030707269907, -0.007272856310009956, -0.009416770190000534, 0.011681335046887398, 0.004129592329263687, 0.024681761860847473, -0.05280841886997223, 0.010203872807323933, 0.02553752437233925, -0.00895878579467535, -0.05779791995882988, -0.026338031515479088, -0.009983505122363567, 0.004348830785602331, -0.11218982934951782, 0.003246591193601489, -0.0423993319272995, -0.04299095645546913, 0.0024111210368573666, 0.013713066466152668, -0.05090570077300072, 0.012041891925036907, -0.010229711420834064, -0.003501598723232746, -0.0067717405036091805, 0.015415598638355732, -0.01569555141031742, 0.016160178929567337, -0.0035589910112321377, -0.03967792168259621, 0.017543522641062737, 0.05516888573765755, 0.013793646357953548, 0.018955882638692856, -0.021197114139795303, 0.05834349989891052, -0.03821258246898651, -0.028490303084254265, -0.002327772555872798, -0.027621982619166374, -0.003439566818997264, 0.052643220871686935, -0.007405548822134733, -0.04424358159303665, 0.012072663754224777, 0.012663190253078938, -0.035685230046510696, 0.016805730760097504, 0.02635493129491806, -0.043373953551054, -0.015089541673660278, -0.03720948472619057, -0.00283748097717762, -0.022148920223116875, 0.04523076117038727, -0.054423268884420395, 0.024903172627091408, -0.08758935332298279, 0.03046790324151516, -0.006769977509975433, 0.035016294568777084, -0.04532478749752045, -0.05475318804383278, 0.03257317095994949, 0.031276412308216095, 0.062416404485702515, -0.09696649014949799, 0.02213343046605587, -0.049639444798231125, -0.016418607905507088, 0.013241402804851532, -0.04547690600156784, 0.030182432383298874, -0.04243958741426468, -0.01171363890171051, -0.040914278477430344, 0.1272287517786026, 0.06192183867096901, 0.028316786512732506, -0.022264106199145317, -0.002286340110003948, -0.010566177777945995, -0.07596807926893234, 0.029035845771431923, 0.006179773714393377, 0.004071255214512348, -0.047587376087903976, 0.008230193518102169, -0.026992443948984146, 0.009602462872862816, -0.0024867237079888582, 0.006904296576976776, -0.006541781593114138, 0.10687963664531708, 0.01299290917813778, 0.015166068449616432, 0.0251569002866745, -0.002563456306234002, 0.04001215472817421, -0.0023921735119074583, -0.0019188750302419066, 0.01625775545835495, -0.044772014021873474, 0.028929011896252632, -0.037101682275533676, -0.006148854736238718, 0.026779551059007645, 0.04470110684633255, -0.019155913963913918, 0.026924332603812218, -0.016525639221072197, 0.03886115923523903, -0.03108440339565277, -0.046433769166469574, -1.359220732410904e-05, 0.041792433708906174, 0.06232388690114021, 0.06214498355984688, -0.02595362439751625, 0.03497273102402687, -0.05053550377488136, 0.0010091281728819013, -0.00043714159983210266, -0.03864074870944023, 0.049849897623062134, 0.021292751654982567, -0.01039726473391056, 0.02610955573618412, -0.008751682005822659, -0.02907419018447399, 0.019450921565294266, -0.04104302078485489, -0.0015095091657713056, -0.025502312928438187, 0.03743867576122284, -0.03736996650695801, 0.008123727515339851, -0.012052723206579685, 0.02625015377998352, -0.05472027137875557, 0.009954690933227539, 0.019798466935753822, 0.026490338146686554, 0.021765215322375298, -0.036805227398872375, 0.0008801976218819618, 0.01174820214509964, -0.029976047575473785, -0.06195957213640213, 0.031134862452745438, 0.006118342746049166, 0.049451980739831924, 0.006970978807657957, -0.04369734227657318, -0.02788880653679371, -0.10370258241891861, -0.0300260279327631, 0.0215894877910614, 0.02835501730442047, -0.026851480826735497, 0.00283199199475348, -0.02152506820857525, 0.030221937224268913, 0.002397415228188038, 0.04398080334067345, 0.06748934090137482, 0.02226891741156578, -0.03504018485546112, -0.08051016926765442, 0.01604396291077137, 0.01602434180676937, 0.015432341024279594, -0.00854644738137722, 0.019346123561263084, -0.015613415278494358, -0.023004822432994843, 0.047262609004974365, 0.003936331253498793, 0.056898292154073715, 0.09508401900529861, 0.026910534128546715, -0.015324313193559647, 0.03637663275003433, 0.003041992662474513, 0.009488898329436779, 0.029430901631712914, 0.054332535713911057, 0.051425352692604065, 0.06748764961957932, 0.018234072253108025, -0.006608819123357534, -0.03802349418401718, -0.03479333966970444, 0.06273432075977325, 0.013462657108902931, -0.02583538182079792, -0.015473905950784683, -0.013948430307209492, -0.036993514746427536, 0.0017878939397633076, 0.004459951538592577, 0.005699504632502794, -0.0627811998128891, -0.026469146832823753, 0.0015876209363341331, -0.006478587631136179, 0.04748490825295448, 0.0031301905401051044, 0.025988703593611717, 0.07015218585729599, -0.030509332194924355, -0.03107033111155033, -0.021278494969010353, 0.06877010315656662, 0.0052993418648839, -0.0008919694810174406, -0.04237597435712814, 0.06535143405199051, -0.007267772685736418, 0.03519761189818382, -0.017105598002672195, 0.02034197375178337, 0.014164097607135773, 0.011109860613942146, -0.03991320729255676, -0.00208294321782887, 0.06735339760780334, -0.048071250319480896, -0.0024011069908738136, -0.07164080440998077, -0.020610442385077477, -0.08083726465702057, -0.0025300104171037674, -0.007218899670988321, -0.06256959587335587, 0.0031228610314428806, -0.01081768423318863, 0.001273039379157126, 0.0052946945652365685, 0.002199211623519659, -0.02892392687499523, -0.006110998801887035, 0.05387010797858238, -0.01821139268577099, 0.02447747066617012, 0.030472349375486374, 0.03802997246384621, -0.0038944357074797153, 0.014614584855735302, -0.01033785566687584, 0.0313979908823967, -0.0033139397855848074, 0.023763885721564293, -0.026158414781093597, -0.03819425031542778, -0.038251105695962906, -0.0007863107020966709, 0.03035879135131836, -0.014932096004486084, -0.04000649228692055, 0.03355097770690918, 0.01914520561695099, -0.02016036957502365, -0.042883727699518204, -0.006092546042054892, -0.024724366143345833, -0.0017656247364357114, 0.047868989408016205, 0.009260991588234901, 0.007674235850572586, 0.002541495952755213, -0.03439733386039734, -9.841625796980225e-06, -0.03685906156897545, 0.02216155454516411, 0.003175638150423765, -0.0054587312042713165, 0.019599994644522667, 0.04472125321626663, -0.022183794528245926, 0.014649207703769207, -0.023669470101594925, 0.014075449667870998, -0.001053967629559338, -0.0054056961089372635, -0.025970539078116417, -0.01114699151366949, -0.017209747806191444, -0.023585379123687744, -0.007835591211915016, 0.021056314930319786, -0.06510516256093979, -0.03125713765621185, -0.018029946833848953, -0.022911101579666138, -0.010140329599380493, -0.011825994588434696, -0.009331866167485714, -0.03153995797038078, 0.02604108676314354, 0.02605999819934368, 0.010507826693356037, 0.022386860102415085, 0.009487531147897243, -0.03756303712725639, 0.0369601771235466, -0.001809383975341916, 0.014330178499221802, 0.05539139360189438, 0.007700341288000345, -0.040462929755449295, 0.022156624123454094, 0.007222325075417757, -0.049050137400627136, -0.006568003445863724, 0.006653588265180588, 0.002651984104886651, 0.06677365303039551, 0.03177803382277489, -0.018513387069106102, 0.016153864562511444, 0.0271106269210577, 0.014765017665922642, -0.03875965252518654, 0.05295427143573761, -0.045356541872024536, 0.005709739867597818, 0.007237909361720085, -0.039890725165605545, -0.012987609952688217, 0.011360001750290394, 0.05748794227838516, -0.0023272656835615635, -0.02157244272530079, -0.031198151409626007, -0.07504358142614365, -0.02726062759757042, 0.06477027386426926, -0.02810315228998661, -0.03382468223571777, 0.003230629488825798, 0.02283393405377865, 0.05689477175474167, 0.06175747513771057, 0.02741682529449463, -0.04529546946287155, -0.050900671631097794, 0.042898811399936676, -0.04505318030714989, -0.018758568912744522, -0.0006774954963475466, -0.03844757378101349, 0.03851903975009918, 0.009892279282212257, -0.00978914089500904, 0.05735984072089195, -0.015861861407756805, 0.06363736838102341, 0.01434989646077156, 0.02254992537200451, -0.023313570767641068, 0.027661126106977463, -0.005084621720016003, -0.015934305265545845, -0.03933561220765114, 0.05384521931409836, -0.012963056564331055, -0.0067397551611065865, -0.034185659140348434, 0.008303905837237835, -0.008883983828127384, -0.0022780881263315678, 0.049223385751247406, 0.023637181147933006, -0.002487048041075468, -0.04640815407037735, 0.04552670195698738, -0.0009280234226025641, 0.05012477561831474, -0.045063674449920654, -0.011128892190754414, 0.08685091137886047, 0.04919196292757988, -0.01149098202586174, 0.042523954063653946, 0.012619687244296074, 0.019510390236973763, -0.011992796324193478, -0.035789184272289276, -0.0394597053527832, -0.06160768121480942, -0.02432422898709774, -0.012879746966063976, 0.037873782217502594, -0.0345037579536438, 0.05830810219049454, 0.001277125789783895, 0.01658736914396286, -0.00350044178776443, 0.06599988788366318, -0.011937581934034824, 0.028677403926849365, -0.024750718846917152, 0.028298217803239822, 0.013782478868961334, -0.029602566733956337, -0.004492270294576883, -0.03318428620696068]\n"
     ]
    }
   ],
   "source": [
    "# Extract the vector from the first embedding to verify\n",
    "vector = embeddings[0].values\n",
    "print(f\"Length of the first vector: {len(vector)}\")\n",
    "print(f\"First vector: {vector}\")"
   ]
  },
  {
   "cell_type": "code",
   "execution_count": 7,
   "id": "78628aaf-e6df-4da5-98e1-5bc270e304b2",
   "metadata": {
    "tags": []
   },
   "outputs": [],
   "source": [
    "import firebase_admin\n",
    "from firebase_admin import credentials\n",
    "from firebase_admin import firestore\n",
    "\n",
    "# Use the application default credentials.\n",
    "cred = credentials.ApplicationDefault()\n",
    "\n",
    "firebase_admin.initialize_app(cred)\n",
    "db = firestore.client()"
   ]
  },
  {
   "cell_type": "code",
   "execution_count": 8,
   "id": "005ad08a-5cf9-4430-98b6-0ac361b0a9cc",
   "metadata": {
    "tags": []
   },
   "outputs": [
    {
     "name": "stdout",
     "output_type": "stream",
     "text": [
      "All pages have been stored in Firestore.\n"
     ]
    }
   ],
   "source": [
    "# Store the text of each page in Firestore\n",
    "collection_name = \"page_content\"\n",
    "for i, page in enumerate(pages):\n",
    "    doc_id = f\"page_{i+1}\"\n",
    "    content = page.page_content\n",
    "    db.collection(collection_name).document(doc_id).set({\"content\": content})\n",
    "\n",
    "print(\"All pages have been stored in Firestore.\")"
   ]
  },
  {
   "cell_type": "code",
   "execution_count": 10,
   "id": "ed6d9125-2589-4d1d-88a7-44fc1aa17bb2",
   "metadata": {
    "tags": []
   },
   "outputs": [
    {
     "name": "stdout",
     "output_type": "stream",
     "text": [
      "Embeddings saved to embeddings.json\n"
     ]
    }
   ],
   "source": [
    "import json\n",
    "\n",
    "with open(\"embeddings.json\", \"w\") as f:\n",
    "  for i, embedding in enumerate(embeddings):\n",
    "    \n",
    "    embedding_list = embedding.values\n",
    "    data = {\"id\": str(i + 1), \"embedding\": embedding_list}  # Cast page number to string\n",
    "    json.dump(data, f)\n",
    "    f.write(\"\\n\")  # Add newline for JSON-L format\n",
    "\n",
    "print(\"Embeddings saved to embeddings.json\")\n"
   ]
  },
  {
   "cell_type": "code",
   "execution_count": 11,
   "id": "cb0545fd-f1f6-4791-a517-8c41f0975374",
   "metadata": {
    "tags": []
   },
   "outputs": [],
   "source": [
    "BUCKET_URI = f\"gs://{PROJECT_ID}\""
   ]
  },
  {
   "cell_type": "code",
   "execution_count": 12,
   "id": "9f07eb23-1561-40b4-a367-cb30e7fedb28",
   "metadata": {
    "tags": []
   },
   "outputs": [
    {
     "name": "stdout",
     "output_type": "stream",
     "text": [
      "E0613 18:09:40.395745223    1666 backup_poller.cc:127]                 Run client channel backup poller: UNKNOWN:pollset_work {created_time:\"2024-06-13T18:09:40.395194614+00:00\", children:[UNKNOWN:Bad file descriptor {syscall:\"epoll_wait\", os_error:\"Bad file descriptor\", errno:9, created_time:\"2024-06-13T18:09:40.395069873+00:00\"}]}\n",
      "Copying file://embeddings.json [Content-Type=application/json]...\n",
      "/ [1 files][  2.0 MiB/  2.0 MiB]                                                \n",
      "Operation completed over 1 objects/2.0 MiB.                                      \n"
     ]
    }
   ],
   "source": [
    "! gsutil cp \"embeddings.json\" \"$BUCKET_URI\""
   ]
  },
  {
   "cell_type": "code",
   "execution_count": 13,
   "id": "d03880b8-7828-4443-91f1-4eb08a833057",
   "metadata": {
    "tags": []
   },
   "outputs": [],
   "source": [
    "# init the aiplatform package\n",
    "from google.cloud import aiplatform\n",
    "\n",
    "aiplatform.init(project=PROJECT_ID, location=LOCATION)"
   ]
  },
  {
   "cell_type": "code",
   "execution_count": 14,
   "id": "b9a125a6-d91a-4c75-ae61-4af4365f0b25",
   "metadata": {
    "tags": []
   },
   "outputs": [
    {
     "name": "stdout",
     "output_type": "stream",
     "text": [
      "Creating MatchingEngineIndex\n",
      "Create MatchingEngineIndex backing LRO: projects/1044046007369/locations/us-central1/indexes/530144924494987264/operations/6835344141237354496\n",
      "MatchingEngineIndex created. Resource name: projects/1044046007369/locations/us-central1/indexes/530144924494987264\n",
      "To use this MatchingEngineIndex in another session:\n",
      "index = aiplatform.MatchingEngineIndex('projects/1044046007369/locations/us-central1/indexes/530144924494987264')\n"
     ]
    }
   ],
   "source": [
    "# create Index\n",
    "my_index = aiplatform.MatchingEngineIndex.create_tree_ah_index(\n",
    "    display_name=f\"vs-quickstart-index-{UID}\",\n",
    "    contents_delta_uri=BUCKET_URI,\n",
    "    dimensions=768,\n",
    "    approximate_neighbors_count=10,\n",
    ")"
   ]
  },
  {
   "cell_type": "code",
   "execution_count": 21,
   "id": "41c75fb5-cd42-449c-b621-9cf09cca5dea",
   "metadata": {
    "tags": []
   },
   "outputs": [
    {
     "name": "stdout",
     "output_type": "stream",
     "text": [
      "Creating MatchingEngineIndexEndpoint\n",
      "Create MatchingEngineIndexEndpoint backing LRO: projects/1044046007369/locations/us-central1/indexEndpoints/2546350182673416192/operations/4233952406477471744\n",
      "MatchingEngineIndexEndpoint created. Resource name: projects/1044046007369/locations/us-central1/indexEndpoints/2546350182673416192\n",
      "To use this MatchingEngineIndexEndpoint in another session:\n",
      "index_endpoint = aiplatform.MatchingEngineIndexEndpoint('projects/1044046007369/locations/us-central1/indexEndpoints/2546350182673416192')\n"
     ]
    }
   ],
   "source": [
    "# create IndexEndpoint\n",
    "assessment_index_endpoint = aiplatform.MatchingEngineIndexEndpoint.create(\n",
    "    display_name=f\"assessment-index-endpoint\", public_endpoint_enabled=True\n",
    ")"
   ]
  },
  {
   "cell_type": "code",
   "execution_count": 24,
   "id": "23a7b518-3196-42e3-83f8-dcacc6993f2d",
   "metadata": {
    "tags": []
   },
   "outputs": [],
   "source": [
    "DEPLOYED_INDEX_ID = f\"vs_quickstart_deployed2_{UID}\""
   ]
  },
  {
   "cell_type": "code",
   "execution_count": null,
   "id": "6e0ff0c2-a1de-44e7-a9f5-f5aaa8d1d432",
   "metadata": {
    "tags": []
   },
   "outputs": [
    {
     "name": "stdout",
     "output_type": "stream",
     "text": [
      "Deploying index MatchingEngineIndexEndpoint index_endpoint: projects/1044046007369/locations/us-central1/indexEndpoints/2546350182673416192\n",
      "Deploy index MatchingEngineIndexEndpoint index_endpoint backing LRO: projects/1044046007369/locations/us-central1/indexEndpoints/2546350182673416192/operations/3088349251265101824\n"
     ]
    }
   ],
   "source": [
    "# deploy the Index to the Index Endpoint\n",
    "assessment_index_endpoint.deploy_index(index=my_index, deployed_index_id=DEPLOYED_INDEX_ID)"
   ]
  },
  {
   "cell_type": "code",
   "execution_count": null,
   "id": "3dea1546-45d1-41d3-92cc-f29113075a05",
   "metadata": {},
   "outputs": [],
   "source": []
  }
 ],
 "metadata": {
  "environment": {
   "kernel": "python3",
   "name": ".m122",
   "type": "gcloud",
   "uri": "us-docker.pkg.dev/deeplearning-platform-release/gcr.io/:m122"
  },
  "kernelspec": {
   "display_name": "Python 3 (ipykernel) (Local)",
   "language": "python",
   "name": "python3"
  },
  "language_info": {
   "codemirror_mode": {
    "name": "ipython",
    "version": 3
   },
   "file_extension": ".py",
   "mimetype": "text/x-python",
   "name": "python",
   "nbconvert_exporter": "python",
   "pygments_lexer": "ipython3",
   "version": "3.10.14"
  }
 },
 "nbformat": 4,
 "nbformat_minor": 5
}
